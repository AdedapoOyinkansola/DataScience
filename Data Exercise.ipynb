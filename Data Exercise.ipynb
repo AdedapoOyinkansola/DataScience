{
 "cells": [
  {
   "cell_type": "code",
   "execution_count": 1,
   "metadata": {},
   "outputs": [],
   "source": [
    "#######import library\n",
    "import pandas as pd\n",
    "import matplotlib.pyplot as plt\n",
    "import seaborn as sns"
   ]
  },
  {
   "cell_type": "markdown",
   "metadata": {},
   "source": [
    "# Question 1"
   ]
  },
  {
   "cell_type": "code",
   "execution_count": 2,
   "metadata": {},
   "outputs": [],
   "source": [
    "#######import \"InterviewData_Cost.csv\" file\n",
    "#######assign to data1\n",
    "data1 = pd.read_csv(\"C:/Users/oyeye/Downloads/InterviewData_Cost.csv\")"
   ]
  },
  {
   "cell_type": "code",
   "execution_count": 3,
   "metadata": {},
   "outputs": [],
   "source": [
    "#######import \"InterviewData_Rev.csv\" file\n",
    "#######assign to data2\n",
    "data2 = pd.read_csv(\"C:/Users/oyeye/Downloads/InterviewData_Rev.csv\")"
   ]
  },
  {
   "cell_type": "code",
   "execution_count": 4,
   "metadata": {},
   "outputs": [],
   "source": [
    "##########merge datasets data1 and data2\n",
    "##########assign to data3\n",
    "data3 = pd.merge(data1, data2, how = 'outer', on = ['date', 'source_id'])"
   ]
  },
  {
   "cell_type": "code",
   "execution_count": 5,
   "metadata": {},
   "outputs": [
    {
     "data": {
      "text/html": [
       "<div>\n",
       "<style scoped>\n",
       "    .dataframe tbody tr th:only-of-type {\n",
       "        vertical-align: middle;\n",
       "    }\n",
       "\n",
       "    .dataframe tbody tr th {\n",
       "        vertical-align: top;\n",
       "    }\n",
       "\n",
       "    .dataframe thead th {\n",
       "        text-align: right;\n",
       "    }\n",
       "</style>\n",
       "<table border=\"1\" class=\"dataframe\">\n",
       "  <thead>\n",
       "    <tr style=\"text-align: right;\">\n",
       "      <th></th>\n",
       "      <th>date</th>\n",
       "      <th>source_id</th>\n",
       "      <th>cost</th>\n",
       "      <th>revenue</th>\n",
       "    </tr>\n",
       "  </thead>\n",
       "  <tbody>\n",
       "    <tr>\n",
       "      <td>0</td>\n",
       "      <td>10/17/2014</td>\n",
       "      <td>PA0577</td>\n",
       "      <td>7168.0</td>\n",
       "      <td>8417.0</td>\n",
       "    </tr>\n",
       "    <tr>\n",
       "      <td>1</td>\n",
       "      <td>8/17/2014</td>\n",
       "      <td>PA0354</td>\n",
       "      <td>7615.0</td>\n",
       "      <td>4200.0</td>\n",
       "    </tr>\n",
       "    <tr>\n",
       "      <td>2</td>\n",
       "      <td>1/7/2014</td>\n",
       "      <td>PA0607</td>\n",
       "      <td>4054.0</td>\n",
       "      <td>7935.0</td>\n",
       "    </tr>\n",
       "    <tr>\n",
       "      <td>3</td>\n",
       "      <td>8/25/2014</td>\n",
       "      <td>PA0745</td>\n",
       "      <td>9317.0</td>\n",
       "      <td>5536.0</td>\n",
       "    </tr>\n",
       "    <tr>\n",
       "      <td>4</td>\n",
       "      <td>11/30/2014</td>\n",
       "      <td>PA0923</td>\n",
       "      <td>5586.0</td>\n",
       "      <td>NaN</td>\n",
       "    </tr>\n",
       "  </tbody>\n",
       "</table>\n",
       "</div>"
      ],
      "text/plain": [
       "         date source_id    cost  revenue\n",
       "0  10/17/2014    PA0577  7168.0   8417.0\n",
       "1   8/17/2014    PA0354  7615.0   4200.0\n",
       "2    1/7/2014    PA0607  4054.0   7935.0\n",
       "3   8/25/2014    PA0745  9317.0   5536.0\n",
       "4  11/30/2014    PA0923  5586.0      NaN"
      ]
     },
     "execution_count": 5,
     "metadata": {},
     "output_type": "execute_result"
    }
   ],
   "source": [
    "data3.head()"
   ]
  },
  {
   "cell_type": "code",
   "execution_count": 6,
   "metadata": {},
   "outputs": [
    {
     "data": {
      "text/plain": [
       "(14618, 4)"
      ]
     },
     "execution_count": 6,
     "metadata": {},
     "output_type": "execute_result"
    }
   ],
   "source": [
    "########all rows returned from the two datasets\n",
    "data3.shape"
   ]
  },
  {
   "cell_type": "code",
   "execution_count": 7,
   "metadata": {},
   "outputs": [
    {
     "data": {
      "text/plain": [
       "<matplotlib.axes._subplots.AxesSubplot at 0x26bbad96e88>"
      ]
     },
     "execution_count": 7,
     "metadata": {},
     "output_type": "execute_result"
    },
    {
     "data": {
      "image/png": "[encoded data removed]",
      "text/plain": [
       "<Figure size 432x288 with 1 Axes>"
      ]
     },
     "metadata": {
      "needs_background": "light"
     },
     "output_type": "display_data"
    }
   ],
   "source": [
    "#########Show missing values after merge\n",
    "sns.heatmap(data3.isnull(), yticklabels = False, cbar = False, cmap = 'plasma')"
   ]
  },
  {
   "cell_type": "code",
   "execution_count": 8,
   "metadata": {},
   "outputs": [
    {
     "name": "stdout",
     "output_type": "stream",
     "text": [
      "<class 'pandas.core.frame.DataFrame'>\n",
      "RangeIndex: 10000 entries, 0 to 9999\n",
      "Data columns (total 3 columns):\n",
      "date         10000 non-null object\n",
      "source_id    10000 non-null object\n",
      "cost         9900 non-null float64\n",
      "dtypes: float64(1), object(2)\n",
      "memory usage: 234.5+ KB\n"
     ]
    }
   ],
   "source": [
    "data1.info()"
   ]
  },
  {
   "cell_type": "markdown",
   "metadata": {},
   "source": [
    "# Question 2"
   ]
  },
  {
   "cell_type": "code",
   "execution_count": 9,
   "metadata": {},
   "outputs": [],
   "source": [
    "##########Join datasets data1 and data2 returning only the rows from the cost file\n",
    "##########assign to data4\n",
    "data4 = pd.merge(data1, data2, how = 'left', on = ['date', 'source_id'])"
   ]
  },
  {
   "cell_type": "code",
   "execution_count": 10,
   "metadata": {},
   "outputs": [
    {
     "data": {
      "text/plain": [
       "(10000, 4)"
      ]
     },
     "execution_count": 10,
     "metadata": {},
     "output_type": "execute_result"
    }
   ],
   "source": [
    "data4.shape"
   ]
  },
  {
   "cell_type": "code",
   "execution_count": 11,
   "metadata": {},
   "outputs": [
    {
     "data": {
      "text/html": [
       "<div>\n",
       "<style scoped>\n",
       "    .dataframe tbody tr th:only-of-type {\n",
       "        vertical-align: middle;\n",
       "    }\n",
       "\n",
       "    .dataframe tbody tr th {\n",
       "        vertical-align: top;\n",
       "    }\n",
       "\n",
       "    .dataframe thead th {\n",
       "        text-align: right;\n",
       "    }\n",
       "</style>\n",
       "<table border=\"1\" class=\"dataframe\">\n",
       "  <thead>\n",
       "    <tr style=\"text-align: right;\">\n",
       "      <th></th>\n",
       "      <th>date</th>\n",
       "      <th>source_id</th>\n",
       "      <th>cost</th>\n",
       "      <th>revenue</th>\n",
       "    </tr>\n",
       "  </thead>\n",
       "  <tbody>\n",
       "    <tr>\n",
       "      <td>0</td>\n",
       "      <td>10/17/2014</td>\n",
       "      <td>PA0577</td>\n",
       "      <td>7168.0</td>\n",
       "      <td>8417.0</td>\n",
       "    </tr>\n",
       "    <tr>\n",
       "      <td>1</td>\n",
       "      <td>8/17/2014</td>\n",
       "      <td>PA0354</td>\n",
       "      <td>7615.0</td>\n",
       "      <td>4200.0</td>\n",
       "    </tr>\n",
       "    <tr>\n",
       "      <td>2</td>\n",
       "      <td>1/7/2014</td>\n",
       "      <td>PA0607</td>\n",
       "      <td>4054.0</td>\n",
       "      <td>7935.0</td>\n",
       "    </tr>\n",
       "    <tr>\n",
       "      <td>3</td>\n",
       "      <td>8/25/2014</td>\n",
       "      <td>PA0745</td>\n",
       "      <td>9317.0</td>\n",
       "      <td>5536.0</td>\n",
       "    </tr>\n",
       "    <tr>\n",
       "      <td>4</td>\n",
       "      <td>11/30/2014</td>\n",
       "      <td>PA0923</td>\n",
       "      <td>5586.0</td>\n",
       "      <td>NaN</td>\n",
       "    </tr>\n",
       "  </tbody>\n",
       "</table>\n",
       "</div>"
      ],
      "text/plain": [
       "         date source_id    cost  revenue\n",
       "0  10/17/2014    PA0577  7168.0   8417.0\n",
       "1   8/17/2014    PA0354  7615.0   4200.0\n",
       "2    1/7/2014    PA0607  4054.0   7935.0\n",
       "3   8/25/2014    PA0745  9317.0   5536.0\n",
       "4  11/30/2014    PA0923  5586.0      NaN"
      ]
     },
     "execution_count": 11,
     "metadata": {},
     "output_type": "execute_result"
    }
   ],
   "source": [
    "data4.head()"
   ]
  },
  {
   "cell_type": "code",
   "execution_count": 12,
   "metadata": {},
   "outputs": [
    {
     "data": {
      "text/plain": [
       "<matplotlib.axes._subplots.AxesSubplot at 0x26bbb3d3248>"
      ]
     },
     "execution_count": 12,
     "metadata": {},
     "output_type": "execute_result"
    },
    {
     "data": {
      "image/png": "[encoded data removed]",
      "text/plain": [
       "<Figure size 432x288 with 1 Axes>"
      ]
     },
     "metadata": {
      "needs_background": "light"
     },
     "output_type": "display_data"
    }
   ],
   "source": [
    "#########Show missing values after join\n",
    "sns.heatmap(data4.isnull(), yticklabels = False, cbar = False, cmap = 'plasma')"
   ]
  },
  {
   "cell_type": "code",
   "execution_count": 13,
   "metadata": {
    "scrolled": true
   },
   "outputs": [
    {
     "data": {
      "text/html": [
       "<div>\n",
       "<style scoped>\n",
       "    .dataframe tbody tr th:only-of-type {\n",
       "        vertical-align: middle;\n",
       "    }\n",
       "\n",
       "    .dataframe tbody tr th {\n",
       "        vertical-align: top;\n",
       "    }\n",
       "\n",
       "    .dataframe thead th {\n",
       "        text-align: right;\n",
       "    }\n",
       "</style>\n",
       "<table border=\"1\" class=\"dataframe\">\n",
       "  <thead>\n",
       "    <tr style=\"text-align: right;\">\n",
       "      <th></th>\n",
       "      <th>date</th>\n",
       "      <th>source_id</th>\n",
       "      <th>cost</th>\n",
       "      <th>revenue</th>\n",
       "    </tr>\n",
       "  </thead>\n",
       "  <tbody>\n",
       "    <tr>\n",
       "      <td>0</td>\n",
       "      <td>10/17/2014</td>\n",
       "      <td>PA0577</td>\n",
       "      <td>7168.0</td>\n",
       "      <td>8417.0</td>\n",
       "    </tr>\n",
       "    <tr>\n",
       "      <td>1</td>\n",
       "      <td>8/17/2014</td>\n",
       "      <td>PA0354</td>\n",
       "      <td>7615.0</td>\n",
       "      <td>4200.0</td>\n",
       "    </tr>\n",
       "    <tr>\n",
       "      <td>2</td>\n",
       "      <td>1/7/2014</td>\n",
       "      <td>PA0607</td>\n",
       "      <td>4054.0</td>\n",
       "      <td>7935.0</td>\n",
       "    </tr>\n",
       "    <tr>\n",
       "      <td>3</td>\n",
       "      <td>8/25/2014</td>\n",
       "      <td>PA0745</td>\n",
       "      <td>9317.0</td>\n",
       "      <td>5536.0</td>\n",
       "    </tr>\n",
       "    <tr>\n",
       "      <td>4</td>\n",
       "      <td>11/30/2014</td>\n",
       "      <td>PA0923</td>\n",
       "      <td>5586.0</td>\n",
       "      <td>NaN</td>\n",
       "    </tr>\n",
       "  </tbody>\n",
       "</table>\n",
       "</div>"
      ],
      "text/plain": [
       "         date source_id    cost  revenue\n",
       "0  10/17/2014    PA0577  7168.0   8417.0\n",
       "1   8/17/2014    PA0354  7615.0   4200.0\n",
       "2    1/7/2014    PA0607  4054.0   7935.0\n",
       "3   8/25/2014    PA0745  9317.0   5536.0\n",
       "4  11/30/2014    PA0923  5586.0      NaN"
      ]
     },
     "execution_count": 13,
     "metadata": {},
     "output_type": "execute_result"
    }
   ],
   "source": [
    "data3.head()"
   ]
  },
  {
   "cell_type": "code",
   "execution_count": null,
   "metadata": {},
   "outputs": [],
   "source": []
  },
  {
   "cell_type": "code",
   "execution_count": 14,
   "metadata": {},
   "outputs": [
    {
     "data": {
      "text/html": [
       "<div>\n",
       "<style scoped>\n",
       "    .dataframe tbody tr th:only-of-type {\n",
       "        vertical-align: middle;\n",
       "    }\n",
       "\n",
       "    .dataframe tbody tr th {\n",
       "        vertical-align: top;\n",
       "    }\n",
       "\n",
       "    .dataframe thead th {\n",
       "        text-align: right;\n",
       "    }\n",
       "</style>\n",
       "<table border=\"1\" class=\"dataframe\">\n",
       "  <thead>\n",
       "    <tr style=\"text-align: right;\">\n",
       "      <th></th>\n",
       "      <th>date</th>\n",
       "      <th>source_id</th>\n",
       "      <th>cost</th>\n",
       "      <th>revenue</th>\n",
       "    </tr>\n",
       "  </thead>\n",
       "  <tbody>\n",
       "    <tr>\n",
       "      <td>3322</td>\n",
       "      <td>1/11/2014</td>\n",
       "      <td>PA0202</td>\n",
       "      <td>9637.0</td>\n",
       "      <td>12000.0</td>\n",
       "    </tr>\n",
       "    <tr>\n",
       "      <td>3176</td>\n",
       "      <td>1/17/2014</td>\n",
       "      <td>PA0057</td>\n",
       "      <td>1691.0</td>\n",
       "      <td>11999.0</td>\n",
       "    </tr>\n",
       "    <tr>\n",
       "      <td>11738</td>\n",
       "      <td>12/8/2014</td>\n",
       "      <td>PA0751</td>\n",
       "      <td>NaN</td>\n",
       "      <td>11999.0</td>\n",
       "    </tr>\n",
       "    <tr>\n",
       "      <td>13007</td>\n",
       "      <td>11/25/2014</td>\n",
       "      <td>PA0527</td>\n",
       "      <td>NaN</td>\n",
       "      <td>11997.0</td>\n",
       "    </tr>\n",
       "  </tbody>\n",
       "</table>\n",
       "</div>"
      ],
      "text/plain": [
       "             date source_id    cost  revenue\n",
       "3322    1/11/2014    PA0202  9637.0  12000.0\n",
       "3176    1/17/2014    PA0057  1691.0  11999.0\n",
       "11738   12/8/2014    PA0751     NaN  11999.0\n",
       "13007  11/25/2014    PA0527     NaN  11997.0"
      ]
     },
     "execution_count": 14,
     "metadata": {},
     "output_type": "execute_result"
    }
   ],
   "source": [
    "##########sort the revenue column in descending order and assign to newdata\n",
    "newdata = data3.sort_values(by = ['revenue'], ascending = False)\n",
    "\n",
    "#########check for the top 4 source\n",
    "newdata.head(4)"
   ]
  },
  {
   "cell_type": "code",
   "execution_count": 15,
   "metadata": {},
   "outputs": [
    {
     "data": {
      "text/plain": [
       "array(['PA0577', 'PA0354', 'PA0607', 'PA0745', 'PA0923', 'PA0808',\n",
       "       'PA0952', 'PA0411', 'PA0526', 'PA0168', 'PA0277', 'PA0057',\n",
       "       'PA0482', 'PA0368', 'PA0552', 'PA0696', 'PA0258', 'PA0338',\n",
       "       'PA0619', 'PA0270', 'PA0474', 'PA0958', 'PA0308', 'PA0830',\n",
       "       'PA0752', 'PA0859', 'PA0174', 'PA0792', 'PA0732', 'PA0318',\n",
       "       'PA0293', 'PA0198', 'PA0202', 'PA0843', 'PA0873', 'PA0973',\n",
       "       'PA0394', 'PA0751', 'PA0169', 'PA0352', 'PA0126', 'PA0672',\n",
       "       'PA0900', 'PA0527', 'PA0534', 'PA0470', 'PA0543', 'PA0467',\n",
       "       'PA0678', 'PA0659'], dtype=object)"
      ]
     },
     "execution_count": 15,
     "metadata": {},
     "output_type": "execute_result"
    }
   ],
   "source": [
    "data3['source_id'].unique()"
   ]
  },
  {
   "cell_type": "code",
   "execution_count": 16,
   "metadata": {
    "collapsed": true
   },
   "outputs": [
    {
     "data": {
      "text/plain": [
       "PA0843    308\n",
       "PA0352    307\n",
       "PA0659    305\n",
       "PA0202    305\n",
       "PA0338    304\n",
       "PA0534    303\n",
       "PA0368    301\n",
       "PA0527    301\n",
       "PA0830    301\n",
       "PA0607    300\n",
       "PA0411    299\n",
       "PA0900    299\n",
       "PA0258    297\n",
       "PA0792    296\n",
       "PA0751    296\n",
       "PA0696    295\n",
       "PA0318    295\n",
       "PA0482    294\n",
       "PA0732    294\n",
       "PA0958    294\n",
       "PA0752    294\n",
       "PA0923    294\n",
       "PA0577    294\n",
       "PA0394    293\n",
       "PA0543    293\n",
       "PA0308    292\n",
       "PA0174    292\n",
       "PA0470    292\n",
       "PA0808    291\n",
       "PA0474    291\n",
       "PA0198    290\n",
       "PA0619    290\n",
       "PA0277    290\n",
       "PA0973    289\n",
       "PA0952    289\n",
       "PA0270    289\n",
       "PA0873    288\n",
       "PA0169    288\n",
       "PA0293    287\n",
       "PA0552    287\n",
       "PA0526    286\n",
       "PA0467    286\n",
       "PA0126    286\n",
       "PA0672    283\n",
       "PA0354    282\n",
       "PA0168    278\n",
       "PA0678    278\n",
       "PA0745    278\n",
       "PA0057    278\n",
       "PA0859    276\n",
       "Name: source_id, dtype: int64"
      ]
     },
     "execution_count": 16,
     "metadata": {},
     "output_type": "execute_result"
    }
   ],
   "source": [
    "data3['source_id'].value_counts()"
   ]
  },
  {
   "cell_type": "markdown",
   "metadata": {},
   "source": [
    "# Question 3"
   ]
  },
  {
   "cell_type": "code",
   "execution_count": 17,
   "metadata": {},
   "outputs": [],
   "source": [
    "##########Top 4 sources in terms of revenue generation\n",
    "newdata = pd.DataFrame(data3.groupby(['source_id'])['revenue'].sum())\n",
    "dff = newdata.sort_values(by = ['revenue'], ascending = False).head(4)"
   ]
  },
  {
   "cell_type": "code",
   "execution_count": 18,
   "metadata": {},
   "outputs": [
    {
     "data": {
      "text/html": [
       "<div>\n",
       "<style scoped>\n",
       "    .dataframe tbody tr th:only-of-type {\n",
       "        vertical-align: middle;\n",
       "    }\n",
       "\n",
       "    .dataframe tbody tr th {\n",
       "        vertical-align: top;\n",
       "    }\n",
       "\n",
       "    .dataframe thead th {\n",
       "        text-align: right;\n",
       "    }\n",
       "</style>\n",
       "<table border=\"1\" class=\"dataframe\">\n",
       "  <thead>\n",
       "    <tr style=\"text-align: right;\">\n",
       "      <th></th>\n",
       "      <th>revenue</th>\n",
       "    </tr>\n",
       "    <tr>\n",
       "      <th>source_id</th>\n",
       "      <th></th>\n",
       "    </tr>\n",
       "  </thead>\n",
       "  <tbody>\n",
       "    <tr>\n",
       "      <td>PA0527</td>\n",
       "      <td>1385747.0</td>\n",
       "    </tr>\n",
       "    <tr>\n",
       "      <td>PA0308</td>\n",
       "      <td>1338615.0</td>\n",
       "    </tr>\n",
       "    <tr>\n",
       "      <td>PA0352</td>\n",
       "      <td>1309685.0</td>\n",
       "    </tr>\n",
       "    <tr>\n",
       "      <td>PA0552</td>\n",
       "      <td>1283190.0</td>\n",
       "    </tr>\n",
       "  </tbody>\n",
       "</table>\n",
       "</div>"
      ],
      "text/plain": [
       "             revenue\n",
       "source_id           \n",
       "PA0527     1385747.0\n",
       "PA0308     1338615.0\n",
       "PA0352     1309685.0\n",
       "PA0552     1283190.0"
      ]
     },
     "execution_count": 18,
     "metadata": {},
     "output_type": "execute_result"
    }
   ],
   "source": [
    "dff"
   ]
  },
  {
   "cell_type": "code",
   "execution_count": 19,
   "metadata": {},
   "outputs": [
    {
     "data": {
      "image/png": "[encoded data removed]",
      "text/plain": [
       "<Figure size 1152x576 with 1 Axes>"
      ]
     },
     "metadata": {
      "needs_background": "light"
     },
     "output_type": "display_data"
    }
   ],
   "source": [
    "#########Visualisation of monthly revenue\n",
    "dff.plot(kind = 'bar', figsize = (16, 8))\n",
    "plt.grid()\n",
    "plt.show()"
   ]
  },
  {
   "cell_type": "code",
   "execution_count": 20,
   "metadata": {},
   "outputs": [],
   "source": [
    "###########select 'PA0527' source_id values and assign to ndata\n",
    "ndata = data3.loc[data3['source_id'] == 'PA0527']"
   ]
  },
  {
   "cell_type": "code",
   "execution_count": 21,
   "metadata": {},
   "outputs": [
    {
     "data": {
      "text/html": [
       "<div>\n",
       "<style scoped>\n",
       "    .dataframe tbody tr th:only-of-type {\n",
       "        vertical-align: middle;\n",
       "    }\n",
       "\n",
       "    .dataframe tbody tr th {\n",
       "        vertical-align: top;\n",
       "    }\n",
       "\n",
       "    .dataframe thead th {\n",
       "        text-align: right;\n",
       "    }\n",
       "</style>\n",
       "<table border=\"1\" class=\"dataframe\">\n",
       "  <thead>\n",
       "    <tr style=\"text-align: right;\">\n",
       "      <th></th>\n",
       "      <th>date</th>\n",
       "      <th>source_id</th>\n",
       "      <th>cost</th>\n",
       "      <th>revenue</th>\n",
       "    </tr>\n",
       "  </thead>\n",
       "  <tbody>\n",
       "    <tr>\n",
       "      <td>101</td>\n",
       "      <td>6/17/2014</td>\n",
       "      <td>PA0527</td>\n",
       "      <td>8950.0</td>\n",
       "      <td>6212.0</td>\n",
       "    </tr>\n",
       "    <tr>\n",
       "      <td>110</td>\n",
       "      <td>4/25/2014</td>\n",
       "      <td>PA0527</td>\n",
       "      <td>488.0</td>\n",
       "      <td>5903.0</td>\n",
       "    </tr>\n",
       "    <tr>\n",
       "      <td>126</td>\n",
       "      <td>8/28/2014</td>\n",
       "      <td>PA0527</td>\n",
       "      <td>1853.0</td>\n",
       "      <td>NaN</td>\n",
       "    </tr>\n",
       "    <tr>\n",
       "      <td>157</td>\n",
       "      <td>7/1/2014</td>\n",
       "      <td>PA0527</td>\n",
       "      <td>1444.0</td>\n",
       "      <td>10283.0</td>\n",
       "    </tr>\n",
       "    <tr>\n",
       "      <td>186</td>\n",
       "      <td>8/29/2014</td>\n",
       "      <td>PA0527</td>\n",
       "      <td>9397.0</td>\n",
       "      <td>233.0</td>\n",
       "    </tr>\n",
       "    <tr>\n",
       "      <td>...</td>\n",
       "      <td>...</td>\n",
       "      <td>...</td>\n",
       "      <td>...</td>\n",
       "      <td>...</td>\n",
       "    </tr>\n",
       "    <tr>\n",
       "      <td>14455</td>\n",
       "      <td>5/26/2014</td>\n",
       "      <td>PA0527</td>\n",
       "      <td>NaN</td>\n",
       "      <td>2744.0</td>\n",
       "    </tr>\n",
       "    <tr>\n",
       "      <td>14483</td>\n",
       "      <td>6/13/2014</td>\n",
       "      <td>PA0527</td>\n",
       "      <td>NaN</td>\n",
       "      <td>10881.0</td>\n",
       "    </tr>\n",
       "    <tr>\n",
       "      <td>14504</td>\n",
       "      <td>6/2/2014</td>\n",
       "      <td>PA0527</td>\n",
       "      <td>NaN</td>\n",
       "      <td>11644.0</td>\n",
       "    </tr>\n",
       "    <tr>\n",
       "      <td>14517</td>\n",
       "      <td>11/24/2014</td>\n",
       "      <td>PA0527</td>\n",
       "      <td>NaN</td>\n",
       "      <td>8219.0</td>\n",
       "    </tr>\n",
       "    <tr>\n",
       "      <td>14521</td>\n",
       "      <td>11/5/2014</td>\n",
       "      <td>PA0527</td>\n",
       "      <td>NaN</td>\n",
       "      <td>9571.0</td>\n",
       "    </tr>\n",
       "  </tbody>\n",
       "</table>\n",
       "<p>301 rows × 4 columns</p>\n",
       "</div>"
      ],
      "text/plain": [
       "             date source_id    cost  revenue\n",
       "101     6/17/2014    PA0527  8950.0   6212.0\n",
       "110     4/25/2014    PA0527   488.0   5903.0\n",
       "126     8/28/2014    PA0527  1853.0      NaN\n",
       "157      7/1/2014    PA0527  1444.0  10283.0\n",
       "186     8/29/2014    PA0527  9397.0    233.0\n",
       "...           ...       ...     ...      ...\n",
       "14455   5/26/2014    PA0527     NaN   2744.0\n",
       "14483   6/13/2014    PA0527     NaN  10881.0\n",
       "14504    6/2/2014    PA0527     NaN  11644.0\n",
       "14517  11/24/2014    PA0527     NaN   8219.0\n",
       "14521   11/5/2014    PA0527     NaN   9571.0\n",
       "\n",
       "[301 rows x 4 columns]"
      ]
     },
     "execution_count": 21,
     "metadata": {},
     "output_type": "execute_result"
    }
   ],
   "source": [
    "ndata"
   ]
  },
  {
   "cell_type": "code",
   "execution_count": 22,
   "metadata": {},
   "outputs": [
    {
     "name": "stderr",
     "output_type": "stream",
     "text": [
      "C:\\Users\\oyeye\\Anaconda3\\lib\\site-packages\\ipykernel_launcher.py:2: SettingWithCopyWarning: \n",
      "A value is trying to be set on a copy of a slice from a DataFrame.\n",
      "Try using .loc[row_indexer,col_indexer] = value instead\n",
      "\n",
      "See the caveats in the documentation: http://pandas.pydata.org/pandas-docs/stable/user_guide/indexing.html#returning-a-view-versus-a-copy\n",
      "  \n"
     ]
    }
   ],
   "source": [
    "#########Convert date to datetime\n",
    "ndata['date'] = pd.to_datetime(ndata['date'])"
   ]
  },
  {
   "cell_type": "code",
   "execution_count": 23,
   "metadata": {},
   "outputs": [],
   "source": [
    "###########Assign to result\n",
    "result = ndata.groupby(pd.Grouper(key = 'date', freq = '1M')).sum()\n",
    "result.index = result.index.strftime(\"%B\")"
   ]
  },
  {
   "cell_type": "code",
   "execution_count": 24,
   "metadata": {},
   "outputs": [],
   "source": [
    "#######Make month the index\n",
    "result.index.name = 'month'"
   ]
  },
  {
   "cell_type": "code",
   "execution_count": 25,
   "metadata": {},
   "outputs": [],
   "source": [
    "df = result.drop(['cost'], axis = 1)"
   ]
  },
  {
   "cell_type": "code",
   "execution_count": 26,
   "metadata": {},
   "outputs": [
    {
     "data": {
      "image/png": "[encoded data removed]",
      "text/plain": [
       "<Figure size 1152x576 with 1 Axes>"
      ]
     },
     "metadata": {
      "needs_background": "light"
     },
     "output_type": "display_data"
    }
   ],
   "source": [
    "#########Visualisation of monthly revenue for 'PA0527' source_id\n",
    "df.plot(kind = 'bar', figsize = (16, 8))\n",
    "plt.grid()\n",
    "plt.show()"
   ]
  },
  {
   "cell_type": "code",
   "execution_count": null,
   "metadata": {},
   "outputs": [],
   "source": []
  },
  {
   "cell_type": "code",
   "execution_count": 27,
   "metadata": {},
   "outputs": [],
   "source": [
    "###########select 'PA0308' source_id values and assign to ndata\n",
    "ndata1 = data3.loc[data3['source_id'] == 'PA0308']"
   ]
  },
  {
   "cell_type": "code",
   "execution_count": 28,
   "metadata": {},
   "outputs": [
    {
     "name": "stderr",
     "output_type": "stream",
     "text": [
      "C:\\Users\\oyeye\\Anaconda3\\lib\\site-packages\\ipykernel_launcher.py:2: SettingWithCopyWarning: \n",
      "A value is trying to be set on a copy of a slice from a DataFrame.\n",
      "Try using .loc[row_indexer,col_indexer] = value instead\n",
      "\n",
      "See the caveats in the documentation: http://pandas.pydata.org/pandas-docs/stable/user_guide/indexing.html#returning-a-view-versus-a-copy\n",
      "  \n"
     ]
    }
   ],
   "source": [
    "#########Convert date to datetime\n",
    "ndata1['date'] = pd.to_datetime(ndata1['date'])"
   ]
  },
  {
   "cell_type": "code",
   "execution_count": 29,
   "metadata": {},
   "outputs": [],
   "source": [
    "###########Assign to result1\n",
    "result1 = ndata1.groupby(pd.Grouper(key = 'date', freq = '1M')).sum()\n",
    "result1.index = result1.index.strftime(\"%B\")"
   ]
  },
  {
   "cell_type": "code",
   "execution_count": 30,
   "metadata": {},
   "outputs": [],
   "source": [
    "#######Make month the index\n",
    "result1.index.name = 'month'"
   ]
  },
  {
   "cell_type": "code",
   "execution_count": 31,
   "metadata": {},
   "outputs": [],
   "source": [
    "df1 = result1.drop(['cost'], axis = 1)"
   ]
  },
  {
   "cell_type": "code",
   "execution_count": 32,
   "metadata": {},
   "outputs": [
    {
     "data": {
      "image/png": "[encoded data removed]",
      "text/plain": [
       "<Figure size 1152x576 with 1 Axes>"
      ]
     },
     "metadata": {
      "needs_background": "light"
     },
     "output_type": "display_data"
    }
   ],
   "source": [
    "#########Visualisation of monthly revenue for 'PA0308' source_id\n",
    "df1.plot(kind = 'bar', figsize = (16, 8))\n",
    "plt.grid()\n",
    "plt.show()"
   ]
  },
  {
   "cell_type": "code",
   "execution_count": null,
   "metadata": {},
   "outputs": [],
   "source": []
  },
  {
   "cell_type": "code",
   "execution_count": 33,
   "metadata": {},
   "outputs": [],
   "source": [
    "###########select 'PA0352' source_id values and assign to ndata\n",
    "ndata2 = data3.loc[data3['source_id'] == 'PA0352']"
   ]
  },
  {
   "cell_type": "code",
   "execution_count": 34,
   "metadata": {
    "scrolled": true
   },
   "outputs": [
    {
     "name": "stderr",
     "output_type": "stream",
     "text": [
      "C:\\Users\\oyeye\\Anaconda3\\lib\\site-packages\\ipykernel_launcher.py:2: SettingWithCopyWarning: \n",
      "A value is trying to be set on a copy of a slice from a DataFrame.\n",
      "Try using .loc[row_indexer,col_indexer] = value instead\n",
      "\n",
      "See the caveats in the documentation: http://pandas.pydata.org/pandas-docs/stable/user_guide/indexing.html#returning-a-view-versus-a-copy\n",
      "  \n"
     ]
    }
   ],
   "source": [
    "#########Convert date to datetime\n",
    "ndata2['date'] = pd.to_datetime(ndata2['date'])"
   ]
  },
  {
   "cell_type": "code",
   "execution_count": 35,
   "metadata": {},
   "outputs": [],
   "source": [
    "###########Assign to result1\n",
    "result2 = ndata2.groupby(pd.Grouper(key = 'date', freq = '1M')).sum()\n",
    "result2.index = result2.index.strftime(\"%B\")\n",
    "\n",
    "#######Make month the index\n",
    "result2.index.name = 'month'"
   ]
  },
  {
   "cell_type": "code",
   "execution_count": 36,
   "metadata": {},
   "outputs": [
    {
     "data": {
      "image/png": "[encoded data removed]",
      "text/plain": [
       "<Figure size 1152x576 with 1 Axes>"
      ]
     },
     "metadata": {
      "needs_background": "light"
     },
     "output_type": "display_data"
    }
   ],
   "source": [
    "df2 = result2.drop(['cost'], axis = 1)\n",
    "#########Visualisation of monthly revenue for 'PA0352' source_id\n",
    "df2.plot(kind = 'bar', figsize = (16, 8))\n",
    "plt.grid()\n",
    "plt.show()"
   ]
  },
  {
   "cell_type": "code",
   "execution_count": null,
   "metadata": {},
   "outputs": [],
   "source": []
  },
  {
   "cell_type": "code",
   "execution_count": 37,
   "metadata": {},
   "outputs": [],
   "source": [
    "###########select 'PA0552' source_id values and assign to ndata\n",
    "ndata3 = data3.loc[data3['source_id'] == 'PA0552']"
   ]
  },
  {
   "cell_type": "code",
   "execution_count": 38,
   "metadata": {
    "collapsed": true
   },
   "outputs": [
    {
     "data": {
      "text/html": [
       "<div>\n",
       "<style scoped>\n",
       "    .dataframe tbody tr th:only-of-type {\n",
       "        vertical-align: middle;\n",
       "    }\n",
       "\n",
       "    .dataframe tbody tr th {\n",
       "        vertical-align: top;\n",
       "    }\n",
       "\n",
       "    .dataframe thead th {\n",
       "        text-align: right;\n",
       "    }\n",
       "</style>\n",
       "<table border=\"1\" class=\"dataframe\">\n",
       "  <thead>\n",
       "    <tr style=\"text-align: right;\">\n",
       "      <th></th>\n",
       "      <th>date</th>\n",
       "      <th>source_id</th>\n",
       "      <th>cost</th>\n",
       "      <th>revenue</th>\n",
       "    </tr>\n",
       "  </thead>\n",
       "  <tbody>\n",
       "    <tr>\n",
       "      <td>16</td>\n",
       "      <td>3/29/2014</td>\n",
       "      <td>PA0552</td>\n",
       "      <td>7894.0</td>\n",
       "      <td>NaN</td>\n",
       "    </tr>\n",
       "    <tr>\n",
       "      <td>22</td>\n",
       "      <td>8/21/2014</td>\n",
       "      <td>PA0552</td>\n",
       "      <td>4653.0</td>\n",
       "      <td>NaN</td>\n",
       "    </tr>\n",
       "    <tr>\n",
       "      <td>65</td>\n",
       "      <td>12/20/2014</td>\n",
       "      <td>PA0552</td>\n",
       "      <td>2092.0</td>\n",
       "      <td>NaN</td>\n",
       "    </tr>\n",
       "    <tr>\n",
       "      <td>115</td>\n",
       "      <td>10/30/2014</td>\n",
       "      <td>PA0552</td>\n",
       "      <td>4432.0</td>\n",
       "      <td>6626.0</td>\n",
       "    </tr>\n",
       "    <tr>\n",
       "      <td>159</td>\n",
       "      <td>8/13/2014</td>\n",
       "      <td>PA0552</td>\n",
       "      <td>9841.0</td>\n",
       "      <td>2771.0</td>\n",
       "    </tr>\n",
       "    <tr>\n",
       "      <td>...</td>\n",
       "      <td>...</td>\n",
       "      <td>...</td>\n",
       "      <td>...</td>\n",
       "      <td>...</td>\n",
       "    </tr>\n",
       "    <tr>\n",
       "      <td>14431</td>\n",
       "      <td>6/9/2014</td>\n",
       "      <td>PA0552</td>\n",
       "      <td>NaN</td>\n",
       "      <td>2344.0</td>\n",
       "    </tr>\n",
       "    <tr>\n",
       "      <td>14462</td>\n",
       "      <td>5/26/2014</td>\n",
       "      <td>PA0552</td>\n",
       "      <td>NaN</td>\n",
       "      <td>10615.0</td>\n",
       "    </tr>\n",
       "    <tr>\n",
       "      <td>14469</td>\n",
       "      <td>9/29/2014</td>\n",
       "      <td>PA0552</td>\n",
       "      <td>NaN</td>\n",
       "      <td>8387.0</td>\n",
       "    </tr>\n",
       "    <tr>\n",
       "      <td>14484</td>\n",
       "      <td>1/13/2014</td>\n",
       "      <td>PA0552</td>\n",
       "      <td>NaN</td>\n",
       "      <td>3568.0</td>\n",
       "    </tr>\n",
       "    <tr>\n",
       "      <td>14494</td>\n",
       "      <td>8/16/2014</td>\n",
       "      <td>PA0552</td>\n",
       "      <td>NaN</td>\n",
       "      <td>6976.0</td>\n",
       "    </tr>\n",
       "  </tbody>\n",
       "</table>\n",
       "<p>287 rows × 4 columns</p>\n",
       "</div>"
      ],
      "text/plain": [
       "             date source_id    cost  revenue\n",
       "16      3/29/2014    PA0552  7894.0      NaN\n",
       "22      8/21/2014    PA0552  4653.0      NaN\n",
       "65     12/20/2014    PA0552  2092.0      NaN\n",
       "115    10/30/2014    PA0552  4432.0   6626.0\n",
       "159     8/13/2014    PA0552  9841.0   2771.0\n",
       "...           ...       ...     ...      ...\n",
       "14431    6/9/2014    PA0552     NaN   2344.0\n",
       "14462   5/26/2014    PA0552     NaN  10615.0\n",
       "14469   9/29/2014    PA0552     NaN   8387.0\n",
       "14484   1/13/2014    PA0552     NaN   3568.0\n",
       "14494   8/16/2014    PA0552     NaN   6976.0\n",
       "\n",
       "[287 rows x 4 columns]"
      ]
     },
     "execution_count": 38,
     "metadata": {},
     "output_type": "execute_result"
    }
   ],
   "source": [
    "ndata3"
   ]
  },
  {
   "cell_type": "code",
   "execution_count": 39,
   "metadata": {},
   "outputs": [
    {
     "name": "stderr",
     "output_type": "stream",
     "text": [
      "C:\\Users\\oyeye\\Anaconda3\\lib\\site-packages\\ipykernel_launcher.py:2: SettingWithCopyWarning: \n",
      "A value is trying to be set on a copy of a slice from a DataFrame.\n",
      "Try using .loc[row_indexer,col_indexer] = value instead\n",
      "\n",
      "See the caveats in the documentation: http://pandas.pydata.org/pandas-docs/stable/user_guide/indexing.html#returning-a-view-versus-a-copy\n",
      "  \n"
     ]
    }
   ],
   "source": [
    "#########Convert date to datetime\n",
    "ndata3['date'] = pd.to_datetime(ndata3['date'])"
   ]
  },
  {
   "cell_type": "code",
   "execution_count": 40,
   "metadata": {},
   "outputs": [],
   "source": [
    "###########Assign to result2\n",
    "result3 = ndata3.groupby(pd.Grouper(key = 'date', freq = '1M')).sum()\n",
    "result3.index = result3.index.strftime(\"%B\")"
   ]
  },
  {
   "cell_type": "code",
   "execution_count": 41,
   "metadata": {},
   "outputs": [],
   "source": [
    "#######Make month the index\n",
    "result3.index.name = 'month'"
   ]
  },
  {
   "cell_type": "code",
   "execution_count": 42,
   "metadata": {},
   "outputs": [
    {
     "data": {
      "image/png": "[encoded data removed]",
      "text/plain": [
       "<Figure size 1152x576 with 1 Axes>"
      ]
     },
     "metadata": {
      "needs_background": "light"
     },
     "output_type": "display_data"
    }
   ],
   "source": [
    "df3 = result3.drop(['cost'], axis = 1)\n",
    "#########Visualisation of monthly revenue for 'PA0552' source_id\n",
    "df3.plot(kind = 'bar', figsize = (16, 8))\n",
    "plt.grid()\n",
    "plt.show()"
   ]
  },
  {
   "cell_type": "code",
   "execution_count": null,
   "metadata": {},
   "outputs": [],
   "source": []
  },
  {
   "cell_type": "markdown",
   "metadata": {},
   "source": [
    "# Questions 4 & 5"
   ]
  },
  {
   "cell_type": "code",
   "execution_count": 43,
   "metadata": {},
   "outputs": [],
   "source": [
    "########import InterviewData_Activity.csv file\n",
    "data_act = pd.read_csv(\"C:/Users/oyeye/Downloads/InterviewData_Activity.csv\")"
   ]
  },
  {
   "cell_type": "code",
   "execution_count": 44,
   "metadata": {},
   "outputs": [
    {
     "name": "stdout",
     "output_type": "stream",
     "text": [
      "<class 'pandas.core.frame.DataFrame'>\n",
      "RangeIndex: 5420 entries, 0 to 5419\n",
      "Data columns (total 7 columns):\n",
      "userid               5420 non-null object\n",
      "date                 5420 non-null object\n",
      "age                  5420 non-null int64\n",
      "gender               5420 non-null object\n",
      "metropolitan_area    5420 non-null object\n",
      "device_type          5420 non-null object\n",
      "active               5420 non-null int64\n",
      "dtypes: int64(2), object(5)\n",
      "memory usage: 296.5+ KB\n"
     ]
    }
   ],
   "source": [
    "data_act.info()"
   ]
  },
  {
   "cell_type": "code",
   "execution_count": 45,
   "metadata": {},
   "outputs": [
    {
     "data": {
      "text/plain": [
       "<matplotlib.axes._subplots.AxesSubplot at 0x26bbbd4e6c8>"
      ]
     },
     "execution_count": 45,
     "metadata": {},
     "output_type": "execute_result"
    },
    {
     "data": {
      "image/png": "[encoded data removed]",
      "text/plain": [
       "<Figure size 432x288 with 1 Axes>"
      ]
     },
     "metadata": {
      "needs_background": "light"
     },
     "output_type": "display_data"
    }
   ],
   "source": [
    "sns.heatmap(data_act.isnull(), yticklabels = False, cbar = False, cmap = 'plasma')"
   ]
  },
  {
   "cell_type": "code",
   "execution_count": 46,
   "metadata": {},
   "outputs": [
    {
     "data": {
      "text/plain": [
       "<matplotlib.axes._subplots.AxesSubplot at 0x26bbc0f2908>"
      ]
     },
     "execution_count": 46,
     "metadata": {},
     "output_type": "execute_result"
    },
    {
     "data": {
      "image/png": "[encoded data removed]",
      "text/plain": [
       "<Figure size 1152x576 with 1 Axes>"
      ]
     },
     "metadata": {
      "needs_background": "light"
     },
     "output_type": "display_data"
    }
   ],
   "source": [
    "data_act[\"device_type\"].hist(figsize = (16, 8))"
   ]
  },
  {
   "cell_type": "code",
   "execution_count": 47,
   "metadata": {},
   "outputs": [
    {
     "data": {
      "text/plain": [
       "<matplotlib.axes._subplots.AxesSubplot at 0x26bbc16f288>"
      ]
     },
     "execution_count": 47,
     "metadata": {},
     "output_type": "execute_result"
    },
    {
     "data": {
      "image/png": "[encoded data removed]",
      "text/plain": [
       "<Figure size 1152x576 with 1 Axes>"
      ]
     },
     "metadata": {
      "needs_background": "light"
     },
     "output_type": "display_data"
    }
   ],
   "source": [
    "data_act[\"metropolitan_area\"].hist(figsize = (16, 8))"
   ]
  },
  {
   "cell_type": "code",
   "execution_count": 48,
   "metadata": {},
   "outputs": [
    {
     "data": {
      "text/plain": [
       "<matplotlib.axes._subplots.AxesSubplot at 0x26bbc151e88>"
      ]
     },
     "execution_count": 48,
     "metadata": {},
     "output_type": "execute_result"
    },
    {
     "data": {
      "image/png": "[encoded data removed]",
      "text/plain": [
       "<Figure size 1152x576 with 1 Axes>"
      ]
     },
     "metadata": {
      "needs_background": "light"
     },
     "output_type": "display_data"
    }
   ],
   "source": [
    "data_act[\"age\"].hist(figsize = (16, 8))"
   ]
  },
  {
   "cell_type": "code",
   "execution_count": 49,
   "metadata": {},
   "outputs": [
    {
     "data": {
      "text/plain": [
       "<matplotlib.axes._subplots.AxesSubplot at 0x26bbbac2948>"
      ]
     },
     "execution_count": 49,
     "metadata": {},
     "output_type": "execute_result"
    },
    {
     "data": {
      "image/png": "[encoded data removed]",
      "text/plain": [
       "<Figure size 432x288 with 1 Axes>"
      ]
     },
     "metadata": {},
     "output_type": "display_data"
    }
   ],
   "source": [
    "#########import libraries\n",
    "import matplotlib.pyplot as plt\n",
    "import seaborn as sns\n",
    "sns.set_style(\"whitegrid\")\n",
    "sns.countplot(x = \"active\", data = data_act, palette='rainbow')"
   ]
  },
  {
   "cell_type": "code",
   "execution_count": 50,
   "metadata": {},
   "outputs": [
    {
     "name": "stdout",
     "output_type": "stream",
     "text": [
      "0    51.476015\n",
      "1    48.523985\n",
      "Name: active, dtype: float64\n"
     ]
    }
   ],
   "source": [
    "#######Percentage of employees who Churned or Stayed\n",
    "n_active = len(data_act)\n",
    "print((data_act[\"active\"].value_counts()/n_active)*100)"
   ]
  },
  {
   "cell_type": "code",
   "execution_count": 51,
   "metadata": {},
   "outputs": [
    {
     "data": {
      "text/plain": [
       "<matplotlib.axes._subplots.AxesSubplot at 0x26bbb676788>"
      ]
     },
     "execution_count": 51,
     "metadata": {},
     "output_type": "execute_result"
    },
    {
     "data": {
      "image/png": "[encoded data removed]",
      "text/plain": [
       "<Figure size 432x288 with 1 Axes>"
      ]
     },
     "metadata": {},
     "output_type": "display_data"
    }
   ],
   "source": [
    "sns.set_style(\"whitegrid\")\n",
    "sns.countplot(x = \"active\", hue = 'gender', data = data_act, palette = 'rainbow')"
   ]
  },
  {
   "cell_type": "code",
   "execution_count": 53,
   "metadata": {},
   "outputs": [
    {
     "name": "stdout",
     "output_type": "stream",
     "text": [
      "F    85.811808\n",
      "M    14.188192\n",
      "Name: gender, dtype: float64\n"
     ]
    }
   ],
   "source": [
    "#######gender percentage\n",
    "n_active = len(data_act)\n",
    "print((data_act[\"gender\"].value_counts()/n_active)*100)"
   ]
  },
  {
   "cell_type": "code",
   "execution_count": null,
   "metadata": {},
   "outputs": [],
   "source": []
  },
  {
   "cell_type": "code",
   "execution_count": 54,
   "metadata": {},
   "outputs": [],
   "source": [
    "######Assign dummy variables to gender column\n",
    "gen = pd.get_dummies(data_act[\"gender\"])\n",
    "\n",
    "#########Drop the \"M\" column\n",
    "gen = gen.drop(\"M\", axis = 1)"
   ]
  },
  {
   "cell_type": "code",
   "execution_count": 55,
   "metadata": {},
   "outputs": [],
   "source": [
    "########Drop \"gender\" column from data_act\n",
    "data_act = data_act.drop(\"gender\", axis = 1)"
   ]
  },
  {
   "cell_type": "code",
   "execution_count": 56,
   "metadata": {},
   "outputs": [],
   "source": [
    "#########Join created dummy variables for gender to data_act\n",
    "data_act = data_act.join(gen)"
   ]
  },
  {
   "cell_type": "code",
   "execution_count": null,
   "metadata": {},
   "outputs": [],
   "source": []
  },
  {
   "cell_type": "code",
   "execution_count": 57,
   "metadata": {},
   "outputs": [],
   "source": [
    "######Assign dummy variables to metropolitan_area column\n",
    "met = pd.get_dummies(data_act[\"metropolitan_area\"])\n",
    "\n",
    "#########Drop the \"Mobile\" column\n",
    "met = met.drop(\"Mobile\", axis = 1)"
   ]
  },
  {
   "cell_type": "code",
   "execution_count": 58,
   "metadata": {},
   "outputs": [],
   "source": [
    "########Drop \"metropolitan_area\" column from data_act\n",
    "data_act = data_act.drop(\"metropolitan_area\", axis = 1)"
   ]
  },
  {
   "cell_type": "code",
   "execution_count": 59,
   "metadata": {},
   "outputs": [],
   "source": [
    "#########Join created dummy variables for metropolitan_area to data_act\n",
    "data_act = data_act.join(met)"
   ]
  },
  {
   "cell_type": "code",
   "execution_count": null,
   "metadata": {},
   "outputs": [],
   "source": []
  },
  {
   "cell_type": "code",
   "execution_count": 60,
   "metadata": {},
   "outputs": [],
   "source": [
    "######Assign dummy variables to device_type column\n",
    "dev = pd.get_dummies(data_act[\"device_type\"])\n",
    "\n",
    "#########Drop the \"Mobile\" column\n",
    "dev = dev.drop(\"Mobile\", axis = 1)"
   ]
  },
  {
   "cell_type": "code",
   "execution_count": 61,
   "metadata": {},
   "outputs": [],
   "source": [
    "########Drop \"device_type\" column from data_act\n",
    "data_act = data_act.drop(\"device_type\", axis = 1)"
   ]
  },
  {
   "cell_type": "code",
   "execution_count": 62,
   "metadata": {},
   "outputs": [],
   "source": [
    "#########Join created dummy variables for metropolitan_area to data_act\n",
    "data_act = data_act.join(dev)"
   ]
  },
  {
   "cell_type": "code",
   "execution_count": null,
   "metadata": {},
   "outputs": [],
   "source": []
  },
  {
   "cell_type": "code",
   "execution_count": 63,
   "metadata": {},
   "outputs": [
    {
     "data": {
      "text/html": [
       "<div>\n",
       "<style scoped>\n",
       "    .dataframe tbody tr th:only-of-type {\n",
       "        vertical-align: middle;\n",
       "    }\n",
       "\n",
       "    .dataframe tbody tr th {\n",
       "        vertical-align: top;\n",
       "    }\n",
       "\n",
       "    .dataframe thead th {\n",
       "        text-align: right;\n",
       "    }\n",
       "</style>\n",
       "<table border=\"1\" class=\"dataframe\">\n",
       "  <thead>\n",
       "    <tr style=\"text-align: right;\">\n",
       "      <th></th>\n",
       "      <th>userid</th>\n",
       "      <th>date</th>\n",
       "      <th>age</th>\n",
       "      <th>active</th>\n",
       "      <th>F</th>\n",
       "      <th>Austin</th>\n",
       "      <th>Birmingham</th>\n",
       "      <th>Charlotte</th>\n",
       "      <th>Detroit</th>\n",
       "      <th>Houston</th>\n",
       "      <th>Nashville</th>\n",
       "      <th>Tampa</th>\n",
       "      <th>Desktop</th>\n",
       "      <th>Tablet</th>\n",
       "    </tr>\n",
       "  </thead>\n",
       "  <tbody>\n",
       "    <tr>\n",
       "      <td>0</td>\n",
       "      <td>4e3a9ea937b3a</td>\n",
       "      <td>8/4/2015</td>\n",
       "      <td>30</td>\n",
       "      <td>1</td>\n",
       "      <td>1</td>\n",
       "      <td>0</td>\n",
       "      <td>0</td>\n",
       "      <td>0</td>\n",
       "      <td>1</td>\n",
       "      <td>0</td>\n",
       "      <td>0</td>\n",
       "      <td>0</td>\n",
       "      <td>0</td>\n",
       "      <td>1</td>\n",
       "    </tr>\n",
       "    <tr>\n",
       "      <td>1</td>\n",
       "      <td>4e3dd5154a08c</td>\n",
       "      <td>8/6/2015</td>\n",
       "      <td>43</td>\n",
       "      <td>1</td>\n",
       "      <td>1</td>\n",
       "      <td>0</td>\n",
       "      <td>0</td>\n",
       "      <td>1</td>\n",
       "      <td>0</td>\n",
       "      <td>0</td>\n",
       "      <td>0</td>\n",
       "      <td>0</td>\n",
       "      <td>1</td>\n",
       "      <td>0</td>\n",
       "    </tr>\n",
       "    <tr>\n",
       "      <td>2</td>\n",
       "      <td>4e3df1ecd131a</td>\n",
       "      <td>8/6/2015</td>\n",
       "      <td>41</td>\n",
       "      <td>1</td>\n",
       "      <td>1</td>\n",
       "      <td>0</td>\n",
       "      <td>0</td>\n",
       "      <td>0</td>\n",
       "      <td>0</td>\n",
       "      <td>0</td>\n",
       "      <td>0</td>\n",
       "      <td>1</td>\n",
       "      <td>0</td>\n",
       "      <td>0</td>\n",
       "    </tr>\n",
       "    <tr>\n",
       "      <td>3</td>\n",
       "      <td>4e4e77461b1e3</td>\n",
       "      <td>8/19/2015</td>\n",
       "      <td>56</td>\n",
       "      <td>1</td>\n",
       "      <td>1</td>\n",
       "      <td>0</td>\n",
       "      <td>0</td>\n",
       "      <td>0</td>\n",
       "      <td>0</td>\n",
       "      <td>0</td>\n",
       "      <td>1</td>\n",
       "      <td>0</td>\n",
       "      <td>1</td>\n",
       "      <td>0</td>\n",
       "    </tr>\n",
       "    <tr>\n",
       "      <td>4</td>\n",
       "      <td>4e4eb59b6de55</td>\n",
       "      <td>8/19/2015</td>\n",
       "      <td>33</td>\n",
       "      <td>1</td>\n",
       "      <td>1</td>\n",
       "      <td>0</td>\n",
       "      <td>0</td>\n",
       "      <td>0</td>\n",
       "      <td>1</td>\n",
       "      <td>0</td>\n",
       "      <td>0</td>\n",
       "      <td>0</td>\n",
       "      <td>0</td>\n",
       "      <td>0</td>\n",
       "    </tr>\n",
       "    <tr>\n",
       "      <td>...</td>\n",
       "      <td>...</td>\n",
       "      <td>...</td>\n",
       "      <td>...</td>\n",
       "      <td>...</td>\n",
       "      <td>...</td>\n",
       "      <td>...</td>\n",
       "      <td>...</td>\n",
       "      <td>...</td>\n",
       "      <td>...</td>\n",
       "      <td>...</td>\n",
       "      <td>...</td>\n",
       "      <td>...</td>\n",
       "      <td>...</td>\n",
       "      <td>...</td>\n",
       "    </tr>\n",
       "    <tr>\n",
       "      <td>5415</td>\n",
       "      <td>4e9cce2b66d44</td>\n",
       "      <td>10/17/2015</td>\n",
       "      <td>21</td>\n",
       "      <td>0</td>\n",
       "      <td>0</td>\n",
       "      <td>0</td>\n",
       "      <td>0</td>\n",
       "      <td>0</td>\n",
       "      <td>0</td>\n",
       "      <td>1</td>\n",
       "      <td>0</td>\n",
       "      <td>0</td>\n",
       "      <td>0</td>\n",
       "      <td>1</td>\n",
       "    </tr>\n",
       "    <tr>\n",
       "      <td>5416</td>\n",
       "      <td>4f2ab00039f50</td>\n",
       "      <td>2/2/2016</td>\n",
       "      <td>42</td>\n",
       "      <td>0</td>\n",
       "      <td>1</td>\n",
       "      <td>0</td>\n",
       "      <td>1</td>\n",
       "      <td>0</td>\n",
       "      <td>0</td>\n",
       "      <td>0</td>\n",
       "      <td>0</td>\n",
       "      <td>0</td>\n",
       "      <td>0</td>\n",
       "      <td>0</td>\n",
       "    </tr>\n",
       "    <tr>\n",
       "      <td>5417</td>\n",
       "      <td>4e642e7208f6b</td>\n",
       "      <td>9/4/2015</td>\n",
       "      <td>40</td>\n",
       "      <td>0</td>\n",
       "      <td>1</td>\n",
       "      <td>0</td>\n",
       "      <td>0</td>\n",
       "      <td>0</td>\n",
       "      <td>0</td>\n",
       "      <td>1</td>\n",
       "      <td>0</td>\n",
       "      <td>0</td>\n",
       "      <td>0</td>\n",
       "      <td>0</td>\n",
       "    </tr>\n",
       "    <tr>\n",
       "      <td>5418</td>\n",
       "      <td>4f40149878765</td>\n",
       "      <td>2/18/2016</td>\n",
       "      <td>40</td>\n",
       "      <td>0</td>\n",
       "      <td>1</td>\n",
       "      <td>0</td>\n",
       "      <td>0</td>\n",
       "      <td>0</td>\n",
       "      <td>0</td>\n",
       "      <td>1</td>\n",
       "      <td>0</td>\n",
       "      <td>0</td>\n",
       "      <td>0</td>\n",
       "      <td>0</td>\n",
       "    </tr>\n",
       "    <tr>\n",
       "      <td>5419</td>\n",
       "      <td>4ea84c57de3bb</td>\n",
       "      <td>10/26/2015</td>\n",
       "      <td>30</td>\n",
       "      <td>0</td>\n",
       "      <td>1</td>\n",
       "      <td>0</td>\n",
       "      <td>0</td>\n",
       "      <td>0</td>\n",
       "      <td>0</td>\n",
       "      <td>0</td>\n",
       "      <td>0</td>\n",
       "      <td>1</td>\n",
       "      <td>0</td>\n",
       "      <td>0</td>\n",
       "    </tr>\n",
       "  </tbody>\n",
       "</table>\n",
       "<p>5420 rows × 14 columns</p>\n",
       "</div>"
      ],
      "text/plain": [
       "             userid        date  age  active  F  Austin  Birmingham  \\\n",
       "0     4e3a9ea937b3a    8/4/2015   30       1  1       0           0   \n",
       "1     4e3dd5154a08c    8/6/2015   43       1  1       0           0   \n",
       "2     4e3df1ecd131a    8/6/2015   41       1  1       0           0   \n",
       "3     4e4e77461b1e3   8/19/2015   56       1  1       0           0   \n",
       "4     4e4eb59b6de55   8/19/2015   33       1  1       0           0   \n",
       "...             ...         ...  ...     ... ..     ...         ...   \n",
       "5415  4e9cce2b66d44  10/17/2015   21       0  0       0           0   \n",
       "5416  4f2ab00039f50    2/2/2016   42       0  1       0           1   \n",
       "5417  4e642e7208f6b    9/4/2015   40       0  1       0           0   \n",
       "5418  4f40149878765   2/18/2016   40       0  1       0           0   \n",
       "5419  4ea84c57de3bb  10/26/2015   30       0  1       0           0   \n",
       "\n",
       "      Charlotte  Detroit  Houston  Nashville  Tampa  Desktop  Tablet  \n",
       "0             0        1        0          0      0        0       1  \n",
       "1             1        0        0          0      0        1       0  \n",
       "2             0        0        0          0      1        0       0  \n",
       "3             0        0        0          1      0        1       0  \n",
       "4             0        1        0          0      0        0       0  \n",
       "...         ...      ...      ...        ...    ...      ...     ...  \n",
       "5415          0        0        1          0      0        0       1  \n",
       "5416          0        0        0          0      0        0       0  \n",
       "5417          0        0        1          0      0        0       0  \n",
       "5418          0        0        1          0      0        0       0  \n",
       "5419          0        0        0          0      1        0       0  \n",
       "\n",
       "[5420 rows x 14 columns]"
      ]
     },
     "execution_count": 63,
     "metadata": {},
     "output_type": "execute_result"
    }
   ],
   "source": [
    "data_act"
   ]
  },
  {
   "cell_type": "code",
   "execution_count": 64,
   "metadata": {},
   "outputs": [
    {
     "data": {
      "text/html": [
       "<style  type=\"text/css\" >\n",
       "    #T_1fda624a_86d4_11eb_9d1e_e8d8d143b53brow0_col0 {\n",
       "            background-color:  #b40426;\n",
       "            color:  #f1f1f1;\n",
       "        }    #T_1fda624a_86d4_11eb_9d1e_e8d8d143b53brow0_col1 {\n",
       "            background-color:  #6f92f3;\n",
       "            color:  #000000;\n",
       "        }    #T_1fda624a_86d4_11eb_9d1e_e8d8d143b53brow0_col2 {\n",
       "            background-color:  #4a63d3;\n",
       "            color:  #f1f1f1;\n",
       "        }    #T_1fda624a_86d4_11eb_9d1e_e8d8d143b53brow0_col3 {\n",
       "            background-color:  #8caffe;\n",
       "            color:  #000000;\n",
       "        }    #T_1fda624a_86d4_11eb_9d1e_e8d8d143b53brow0_col4 {\n",
       "            background-color:  #88abfd;\n",
       "            color:  #000000;\n",
       "        }    #T_1fda624a_86d4_11eb_9d1e_e8d8d143b53brow0_col5 {\n",
       "            background-color:  #536edd;\n",
       "            color:  #000000;\n",
       "        }    #T_1fda624a_86d4_11eb_9d1e_e8d8d143b53brow0_col6 {\n",
       "            background-color:  #7396f5;\n",
       "            color:  #000000;\n",
       "        }    #T_1fda624a_86d4_11eb_9d1e_e8d8d143b53brow0_col7 {\n",
       "            background-color:  #6384eb;\n",
       "            color:  #000000;\n",
       "        }    #T_1fda624a_86d4_11eb_9d1e_e8d8d143b53brow0_col8 {\n",
       "            background-color:  #5875e1;\n",
       "            color:  #000000;\n",
       "        }    #T_1fda624a_86d4_11eb_9d1e_e8d8d143b53brow0_col9 {\n",
       "            background-color:  #9ebeff;\n",
       "            color:  #000000;\n",
       "        }    #T_1fda624a_86d4_11eb_9d1e_e8d8d143b53brow0_col10 {\n",
       "            background-color:  #8badfd;\n",
       "            color:  #000000;\n",
       "        }    #T_1fda624a_86d4_11eb_9d1e_e8d8d143b53brow0_col11 {\n",
       "            background-color:  #6e90f2;\n",
       "            color:  #000000;\n",
       "        }    #T_1fda624a_86d4_11eb_9d1e_e8d8d143b53brow1_col0 {\n",
       "            background-color:  #82a6fb;\n",
       "            color:  #000000;\n",
       "        }    #T_1fda624a_86d4_11eb_9d1e_e8d8d143b53brow1_col1 {\n",
       "            background-color:  #b40426;\n",
       "            color:  #f1f1f1;\n",
       "        }    #T_1fda624a_86d4_11eb_9d1e_e8d8d143b53brow1_col2 {\n",
       "            background-color:  #688aef;\n",
       "            color:  #000000;\n",
       "        }    #T_1fda624a_86d4_11eb_9d1e_e8d8d143b53brow1_col3 {\n",
       "            background-color:  #86a9fc;\n",
       "            color:  #000000;\n",
       "        }    #T_1fda624a_86d4_11eb_9d1e_e8d8d143b53brow1_col4 {\n",
       "            background-color:  #9abbff;\n",
       "            color:  #000000;\n",
       "        }    #T_1fda624a_86d4_11eb_9d1e_e8d8d143b53brow1_col5 {\n",
       "            background-color:  #4257c9;\n",
       "            color:  #f1f1f1;\n",
       "        }    #T_1fda624a_86d4_11eb_9d1e_e8d8d143b53brow1_col6 {\n",
       "            background-color:  #779af7;\n",
       "            color:  #000000;\n",
       "        }    #T_1fda624a_86d4_11eb_9d1e_e8d8d143b53brow1_col7 {\n",
       "            background-color:  #779af7;\n",
       "            color:  #000000;\n",
       "        }    #T_1fda624a_86d4_11eb_9d1e_e8d8d143b53brow1_col8 {\n",
       "            background-color:  #5f7fe8;\n",
       "            color:  #000000;\n",
       "        }    #T_1fda624a_86d4_11eb_9d1e_e8d8d143b53brow1_col9 {\n",
       "            background-color:  #8fb1fe;\n",
       "            color:  #000000;\n",
       "        }    #T_1fda624a_86d4_11eb_9d1e_e8d8d143b53brow1_col10 {\n",
       "            background-color:  #6f92f3;\n",
       "            color:  #000000;\n",
       "        }    #T_1fda624a_86d4_11eb_9d1e_e8d8d143b53brow1_col11 {\n",
       "            background-color:  #81a4fb;\n",
       "            color:  #000000;\n",
       "        }    #T_1fda624a_86d4_11eb_9d1e_e8d8d143b53brow2_col0 {\n",
       "            background-color:  #6c8ff1;\n",
       "            color:  #000000;\n",
       "        }    #T_1fda624a_86d4_11eb_9d1e_e8d8d143b53brow2_col1 {\n",
       "            background-color:  #7699f6;\n",
       "            color:  #000000;\n",
       "        }    #T_1fda624a_86d4_11eb_9d1e_e8d8d143b53brow2_col2 {\n",
       "            background-color:  #b40426;\n",
       "            color:  #f1f1f1;\n",
       "        }    #T_1fda624a_86d4_11eb_9d1e_e8d8d143b53brow2_col3 {\n",
       "            background-color:  #82a6fb;\n",
       "            color:  #000000;\n",
       "        }    #T_1fda624a_86d4_11eb_9d1e_e8d8d143b53brow2_col4 {\n",
       "            background-color:  #9bbcff;\n",
       "            color:  #000000;\n",
       "        }    #T_1fda624a_86d4_11eb_9d1e_e8d8d143b53brow2_col5 {\n",
       "            background-color:  #485fd1;\n",
       "            color:  #f1f1f1;\n",
       "        }    #T_1fda624a_86d4_11eb_9d1e_e8d8d143b53brow2_col6 {\n",
       "            background-color:  #6a8bef;\n",
       "            color:  #000000;\n",
       "        }    #T_1fda624a_86d4_11eb_9d1e_e8d8d143b53brow2_col7 {\n",
       "            background-color:  #85a8fc;\n",
       "            color:  #000000;\n",
       "        }    #T_1fda624a_86d4_11eb_9d1e_e8d8d143b53brow2_col8 {\n",
       "            background-color:  #4c66d6;\n",
       "            color:  #000000;\n",
       "        }    #T_1fda624a_86d4_11eb_9d1e_e8d8d143b53brow2_col9 {\n",
       "            background-color:  #7ea1fa;\n",
       "            color:  #000000;\n",
       "        }    #T_1fda624a_86d4_11eb_9d1e_e8d8d143b53brow2_col10 {\n",
       "            background-color:  #779af7;\n",
       "            color:  #000000;\n",
       "        }    #T_1fda624a_86d4_11eb_9d1e_e8d8d143b53brow2_col11 {\n",
       "            background-color:  #7b9ff9;\n",
       "            color:  #000000;\n",
       "        }    #T_1fda624a_86d4_11eb_9d1e_e8d8d143b53brow3_col0 {\n",
       "            background-color:  #7a9df8;\n",
       "            color:  #000000;\n",
       "        }    #T_1fda624a_86d4_11eb_9d1e_e8d8d143b53brow3_col1 {\n",
       "            background-color:  #5f7fe8;\n",
       "            color:  #000000;\n",
       "        }    #T_1fda624a_86d4_11eb_9d1e_e8d8d143b53brow3_col2 {\n",
       "            background-color:  #4e68d8;\n",
       "            color:  #000000;\n",
       "        }    #T_1fda624a_86d4_11eb_9d1e_e8d8d143b53brow3_col3 {\n",
       "            background-color:  #b40426;\n",
       "            color:  #f1f1f1;\n",
       "        }    #T_1fda624a_86d4_11eb_9d1e_e8d8d143b53brow3_col4 {\n",
       "            background-color:  #5977e3;\n",
       "            color:  #000000;\n",
       "        }    #T_1fda624a_86d4_11eb_9d1e_e8d8d143b53brow3_col5 {\n",
       "            background-color:  #4257c9;\n",
       "            color:  #f1f1f1;\n",
       "        }    #T_1fda624a_86d4_11eb_9d1e_e8d8d143b53brow3_col6 {\n",
       "            background-color:  #4f69d9;\n",
       "            color:  #000000;\n",
       "        }    #T_1fda624a_86d4_11eb_9d1e_e8d8d143b53brow3_col7 {\n",
       "            background-color:  #506bda;\n",
       "            color:  #000000;\n",
       "        }    #T_1fda624a_86d4_11eb_9d1e_e8d8d143b53brow3_col8 {\n",
       "            background-color:  #3f53c6;\n",
       "            color:  #f1f1f1;\n",
       "        }    #T_1fda624a_86d4_11eb_9d1e_e8d8d143b53brow3_col9 {\n",
       "            background-color:  #536edd;\n",
       "            color:  #000000;\n",
       "        }    #T_1fda624a_86d4_11eb_9d1e_e8d8d143b53brow3_col10 {\n",
       "            background-color:  #506bda;\n",
       "            color:  #000000;\n",
       "        }    #T_1fda624a_86d4_11eb_9d1e_e8d8d143b53brow3_col11 {\n",
       "            background-color:  #688aef;\n",
       "            color:  #000000;\n",
       "        }    #T_1fda624a_86d4_11eb_9d1e_e8d8d143b53brow4_col0 {\n",
       "            background-color:  #5f7fe8;\n",
       "            color:  #000000;\n",
       "        }    #T_1fda624a_86d4_11eb_9d1e_e8d8d143b53brow4_col1 {\n",
       "            background-color:  #5f7fe8;\n",
       "            color:  #000000;\n",
       "        }    #T_1fda624a_86d4_11eb_9d1e_e8d8d143b53brow4_col2 {\n",
       "            background-color:  #5470de;\n",
       "            color:  #000000;\n",
       "        }    #T_1fda624a_86d4_11eb_9d1e_e8d8d143b53brow4_col3 {\n",
       "            background-color:  #4358cb;\n",
       "            color:  #f1f1f1;\n",
       "        }    #T_1fda624a_86d4_11eb_9d1e_e8d8d143b53brow4_col4 {\n",
       "            background-color:  #b40426;\n",
       "            color:  #f1f1f1;\n",
       "        }    #T_1fda624a_86d4_11eb_9d1e_e8d8d143b53brow4_col5 {\n",
       "            background-color:  #3d50c3;\n",
       "            color:  #f1f1f1;\n",
       "        }    #T_1fda624a_86d4_11eb_9d1e_e8d8d143b53brow4_col6 {\n",
       "            background-color:  #4257c9;\n",
       "            color:  #f1f1f1;\n",
       "        }    #T_1fda624a_86d4_11eb_9d1e_e8d8d143b53brow4_col7 {\n",
       "            background-color:  #3b4cc0;\n",
       "            color:  #f1f1f1;\n",
       "        }    #T_1fda624a_86d4_11eb_9d1e_e8d8d143b53brow4_col8 {\n",
       "            background-color:  #3c4ec2;\n",
       "            color:  #f1f1f1;\n",
       "        }    #T_1fda624a_86d4_11eb_9d1e_e8d8d143b53brow4_col9 {\n",
       "            background-color:  #4358cb;\n",
       "            color:  #f1f1f1;\n",
       "        }    #T_1fda624a_86d4_11eb_9d1e_e8d8d143b53brow4_col10 {\n",
       "            background-color:  #455cce;\n",
       "            color:  #f1f1f1;\n",
       "        }    #T_1fda624a_86d4_11eb_9d1e_e8d8d143b53brow4_col11 {\n",
       "            background-color:  #92b4fe;\n",
       "            color:  #000000;\n",
       "        }    #T_1fda624a_86d4_11eb_9d1e_e8d8d143b53brow5_col0 {\n",
       "            background-color:  #6b8df0;\n",
       "            color:  #000000;\n",
       "        }    #T_1fda624a_86d4_11eb_9d1e_e8d8d143b53brow5_col1 {\n",
       "            background-color:  #465ecf;\n",
       "            color:  #f1f1f1;\n",
       "        }    #T_1fda624a_86d4_11eb_9d1e_e8d8d143b53brow5_col2 {\n",
       "            background-color:  #3e51c5;\n",
       "            color:  #f1f1f1;\n",
       "        }    #T_1fda624a_86d4_11eb_9d1e_e8d8d143b53brow5_col3 {\n",
       "            background-color:  #6e90f2;\n",
       "            color:  #000000;\n",
       "        }    #T_1fda624a_86d4_11eb_9d1e_e8d8d143b53brow5_col4 {\n",
       "            background-color:  #7ea1fa;\n",
       "            color:  #000000;\n",
       "        }    #T_1fda624a_86d4_11eb_9d1e_e8d8d143b53brow5_col5 {\n",
       "            background-color:  #b40426;\n",
       "            color:  #f1f1f1;\n",
       "        }    #T_1fda624a_86d4_11eb_9d1e_e8d8d143b53brow5_col6 {\n",
       "            background-color:  #6788ee;\n",
       "            color:  #000000;\n",
       "        }    #T_1fda624a_86d4_11eb_9d1e_e8d8d143b53brow5_col7 {\n",
       "            background-color:  #7b9ff9;\n",
       "            color:  #000000;\n",
       "        }    #T_1fda624a_86d4_11eb_9d1e_e8d8d143b53brow5_col8 {\n",
       "            background-color:  #455cce;\n",
       "            color:  #f1f1f1;\n",
       "        }    #T_1fda624a_86d4_11eb_9d1e_e8d8d143b53brow5_col9 {\n",
       "            background-color:  #7093f3;\n",
       "            color:  #000000;\n",
       "        }    #T_1fda624a_86d4_11eb_9d1e_e8d8d143b53brow5_col10 {\n",
       "            background-color:  #adc9fd;\n",
       "            color:  #000000;\n",
       "        }    #T_1fda624a_86d4_11eb_9d1e_e8d8d143b53brow5_col11 {\n",
       "            background-color:  #6180e9;\n",
       "            color:  #000000;\n",
       "        }    #T_1fda624a_86d4_11eb_9d1e_e8d8d143b53brow6_col0 {\n",
       "            background-color:  #688aef;\n",
       "            color:  #000000;\n",
       "        }    #T_1fda624a_86d4_11eb_9d1e_e8d8d143b53brow6_col1 {\n",
       "            background-color:  #5977e3;\n",
       "            color:  #000000;\n",
       "        }    #T_1fda624a_86d4_11eb_9d1e_e8d8d143b53brow6_col2 {\n",
       "            background-color:  #3d50c3;\n",
       "            color:  #f1f1f1;\n",
       "        }    #T_1fda624a_86d4_11eb_9d1e_e8d8d143b53brow6_col3 {\n",
       "            background-color:  #5875e1;\n",
       "            color:  #000000;\n",
       "        }    #T_1fda624a_86d4_11eb_9d1e_e8d8d143b53brow6_col4 {\n",
       "            background-color:  #6180e9;\n",
       "            color:  #000000;\n",
       "        }    #T_1fda624a_86d4_11eb_9d1e_e8d8d143b53brow6_col5 {\n",
       "            background-color:  #445acc;\n",
       "            color:  #f1f1f1;\n",
       "        }    #T_1fda624a_86d4_11eb_9d1e_e8d8d143b53brow6_col6 {\n",
       "            background-color:  #b40426;\n",
       "            color:  #f1f1f1;\n",
       "        }    #T_1fda624a_86d4_11eb_9d1e_e8d8d143b53brow6_col7 {\n",
       "            background-color:  #5977e3;\n",
       "            color:  #000000;\n",
       "        }    #T_1fda624a_86d4_11eb_9d1e_e8d8d143b53brow6_col8 {\n",
       "            background-color:  #4055c8;\n",
       "            color:  #f1f1f1;\n",
       "        }    #T_1fda624a_86d4_11eb_9d1e_e8d8d143b53brow6_col9 {\n",
       "            background-color:  #5977e3;\n",
       "            color:  #000000;\n",
       "        }    #T_1fda624a_86d4_11eb_9d1e_e8d8d143b53brow6_col10 {\n",
       "            background-color:  #5470de;\n",
       "            color:  #000000;\n",
       "        }    #T_1fda624a_86d4_11eb_9d1e_e8d8d143b53brow6_col11 {\n",
       "            background-color:  #90b2fe;\n",
       "            color:  #000000;\n",
       "        }    #T_1fda624a_86d4_11eb_9d1e_e8d8d143b53brow7_col0 {\n",
       "            background-color:  #3b4cc0;\n",
       "            color:  #f1f1f1;\n",
       "        }    #T_1fda624a_86d4_11eb_9d1e_e8d8d143b53brow7_col1 {\n",
       "            background-color:  #3b4cc0;\n",
       "            color:  #f1f1f1;\n",
       "        }    #T_1fda624a_86d4_11eb_9d1e_e8d8d143b53brow7_col2 {\n",
       "            background-color:  #3b4cc0;\n",
       "            color:  #f1f1f1;\n",
       "        }    #T_1fda624a_86d4_11eb_9d1e_e8d8d143b53brow7_col3 {\n",
       "            background-color:  #3b4cc0;\n",
       "            color:  #f1f1f1;\n",
       "        }    #T_1fda624a_86d4_11eb_9d1e_e8d8d143b53brow7_col4 {\n",
       "            background-color:  #3b4cc0;\n",
       "            color:  #f1f1f1;\n",
       "        }    #T_1fda624a_86d4_11eb_9d1e_e8d8d143b53brow7_col5 {\n",
       "            background-color:  #3b4cc0;\n",
       "            color:  #f1f1f1;\n",
       "        }    #T_1fda624a_86d4_11eb_9d1e_e8d8d143b53brow7_col6 {\n",
       "            background-color:  #3b4cc0;\n",
       "            color:  #f1f1f1;\n",
       "        }    #T_1fda624a_86d4_11eb_9d1e_e8d8d143b53brow7_col7 {\n",
       "            background-color:  #b40426;\n",
       "            color:  #f1f1f1;\n",
       "        }    #T_1fda624a_86d4_11eb_9d1e_e8d8d143b53brow7_col8 {\n",
       "            background-color:  #3b4cc0;\n",
       "            color:  #f1f1f1;\n",
       "        }    #T_1fda624a_86d4_11eb_9d1e_e8d8d143b53brow7_col9 {\n",
       "            background-color:  #3b4cc0;\n",
       "            color:  #f1f1f1;\n",
       "        }    #T_1fda624a_86d4_11eb_9d1e_e8d8d143b53brow7_col10 {\n",
       "            background-color:  #3e51c5;\n",
       "            color:  #f1f1f1;\n",
       "        }    #T_1fda624a_86d4_11eb_9d1e_e8d8d143b53brow7_col11 {\n",
       "            background-color:  #a6c4fe;\n",
       "            color:  #000000;\n",
       "        }    #T_1fda624a_86d4_11eb_9d1e_e8d8d143b53brow8_col0 {\n",
       "            background-color:  #779af7;\n",
       "            color:  #000000;\n",
       "        }    #T_1fda624a_86d4_11eb_9d1e_e8d8d143b53brow8_col1 {\n",
       "            background-color:  #6b8df0;\n",
       "            color:  #000000;\n",
       "        }    #T_1fda624a_86d4_11eb_9d1e_e8d8d143b53brow8_col2 {\n",
       "            background-color:  #4b64d5;\n",
       "            color:  #f1f1f1;\n",
       "        }    #T_1fda624a_86d4_11eb_9d1e_e8d8d143b53brow8_col3 {\n",
       "            background-color:  #7396f5;\n",
       "            color:  #000000;\n",
       "        }    #T_1fda624a_86d4_11eb_9d1e_e8d8d143b53brow8_col4 {\n",
       "            background-color:  #85a8fc;\n",
       "            color:  #000000;\n",
       "        }    #T_1fda624a_86d4_11eb_9d1e_e8d8d143b53brow8_col5 {\n",
       "            background-color:  #4c66d6;\n",
       "            color:  #000000;\n",
       "        }    #T_1fda624a_86d4_11eb_9d1e_e8d8d143b53brow8_col6 {\n",
       "            background-color:  #6b8df0;\n",
       "            color:  #000000;\n",
       "        }    #T_1fda624a_86d4_11eb_9d1e_e8d8d143b53brow8_col7 {\n",
       "            background-color:  #82a6fb;\n",
       "            color:  #000000;\n",
       "        }    #T_1fda624a_86d4_11eb_9d1e_e8d8d143b53brow8_col8 {\n",
       "            background-color:  #b40426;\n",
       "            color:  #f1f1f1;\n",
       "        }    #T_1fda624a_86d4_11eb_9d1e_e8d8d143b53brow8_col9 {\n",
       "            background-color:  #7699f6;\n",
       "            color:  #000000;\n",
       "        }    #T_1fda624a_86d4_11eb_9d1e_e8d8d143b53brow8_col10 {\n",
       "            background-color:  #a6c4fe;\n",
       "            color:  #000000;\n",
       "        }    #T_1fda624a_86d4_11eb_9d1e_e8d8d143b53brow8_col11 {\n",
       "            background-color:  #6687ed;\n",
       "            color:  #000000;\n",
       "        }    #T_1fda624a_86d4_11eb_9d1e_e8d8d143b53brow9_col0 {\n",
       "            background-color:  #8badfd;\n",
       "            color:  #000000;\n",
       "        }    #T_1fda624a_86d4_11eb_9d1e_e8d8d143b53brow9_col1 {\n",
       "            background-color:  #6485ec;\n",
       "            color:  #000000;\n",
       "        }    #T_1fda624a_86d4_11eb_9d1e_e8d8d143b53brow9_col2 {\n",
       "            background-color:  #455cce;\n",
       "            color:  #f1f1f1;\n",
       "        }    #T_1fda624a_86d4_11eb_9d1e_e8d8d143b53brow9_col3 {\n",
       "            background-color:  #4f69d9;\n",
       "            color:  #000000;\n",
       "        }    #T_1fda624a_86d4_11eb_9d1e_e8d8d143b53brow9_col4 {\n",
       "            background-color:  #5572df;\n",
       "            color:  #000000;\n",
       "        }    #T_1fda624a_86d4_11eb_9d1e_e8d8d143b53brow9_col5 {\n",
       "            background-color:  #4257c9;\n",
       "            color:  #f1f1f1;\n",
       "        }    #T_1fda624a_86d4_11eb_9d1e_e8d8d143b53brow9_col6 {\n",
       "            background-color:  #4c66d6;\n",
       "            color:  #000000;\n",
       "        }    #T_1fda624a_86d4_11eb_9d1e_e8d8d143b53brow9_col7 {\n",
       "            background-color:  #4c66d6;\n",
       "            color:  #000000;\n",
       "        }    #T_1fda624a_86d4_11eb_9d1e_e8d8d143b53brow9_col8 {\n",
       "            background-color:  #3f53c6;\n",
       "            color:  #f1f1f1;\n",
       "        }    #T_1fda624a_86d4_11eb_9d1e_e8d8d143b53brow9_col9 {\n",
       "            background-color:  #b40426;\n",
       "            color:  #f1f1f1;\n",
       "        }    #T_1fda624a_86d4_11eb_9d1e_e8d8d143b53brow9_col10 {\n",
       "            background-color:  #4e68d8;\n",
       "            color:  #000000;\n",
       "        }    #T_1fda624a_86d4_11eb_9d1e_e8d8d143b53brow9_col11 {\n",
       "            background-color:  #3b4cc0;\n",
       "            color:  #f1f1f1;\n",
       "        }    #T_1fda624a_86d4_11eb_9d1e_e8d8d143b53brow10_col0 {\n",
       "            background-color:  #86a9fc;\n",
       "            color:  #000000;\n",
       "        }    #T_1fda624a_86d4_11eb_9d1e_e8d8d143b53brow10_col1 {\n",
       "            background-color:  #5572df;\n",
       "            color:  #000000;\n",
       "        }    #T_1fda624a_86d4_11eb_9d1e_e8d8d143b53brow10_col2 {\n",
       "            background-color:  #4f69d9;\n",
       "            color:  #000000;\n",
       "        }    #T_1fda624a_86d4_11eb_9d1e_e8d8d143b53brow10_col3 {\n",
       "            background-color:  #5e7de7;\n",
       "            color:  #000000;\n",
       "        }    #T_1fda624a_86d4_11eb_9d1e_e8d8d143b53brow10_col4 {\n",
       "            background-color:  #688aef;\n",
       "            color:  #000000;\n",
       "        }    #T_1fda624a_86d4_11eb_9d1e_e8d8d143b53brow10_col5 {\n",
       "            background-color:  #93b5fe;\n",
       "            color:  #000000;\n",
       "        }    #T_1fda624a_86d4_11eb_9d1e_e8d8d143b53brow10_col6 {\n",
       "            background-color:  #5977e3;\n",
       "            color:  #000000;\n",
       "        }    #T_1fda624a_86d4_11eb_9d1e_e8d8d143b53brow10_col7 {\n",
       "            background-color:  #6282ea;\n",
       "            color:  #000000;\n",
       "        }    #T_1fda624a_86d4_11eb_9d1e_e8d8d143b53brow10_col8 {\n",
       "            background-color:  #85a8fc;\n",
       "            color:  #000000;\n",
       "        }    #T_1fda624a_86d4_11eb_9d1e_e8d8d143b53brow10_col9 {\n",
       "            background-color:  #5f7fe8;\n",
       "            color:  #000000;\n",
       "        }    #T_1fda624a_86d4_11eb_9d1e_e8d8d143b53brow10_col10 {\n",
       "            background-color:  #b40426;\n",
       "            color:  #f1f1f1;\n",
       "        }    #T_1fda624a_86d4_11eb_9d1e_e8d8d143b53brow10_col11 {\n",
       "            background-color:  #3f53c6;\n",
       "            color:  #f1f1f1;\n",
       "        }    #T_1fda624a_86d4_11eb_9d1e_e8d8d143b53brow11_col0 {\n",
       "            background-color:  #6384eb;\n",
       "            color:  #000000;\n",
       "        }    #T_1fda624a_86d4_11eb_9d1e_e8d8d143b53brow11_col1 {\n",
       "            background-color:  #6282ea;\n",
       "            color:  #000000;\n",
       "        }    #T_1fda624a_86d4_11eb_9d1e_e8d8d143b53brow11_col2 {\n",
       "            background-color:  #4f69d9;\n",
       "            color:  #000000;\n",
       "        }    #T_1fda624a_86d4_11eb_9d1e_e8d8d143b53brow11_col3 {\n",
       "            background-color:  #7093f3;\n",
       "            color:  #000000;\n",
       "        }    #T_1fda624a_86d4_11eb_9d1e_e8d8d143b53brow11_col4 {\n",
       "            background-color:  #aac7fd;\n",
       "            color:  #000000;\n",
       "        }    #T_1fda624a_86d4_11eb_9d1e_e8d8d143b53brow11_col5 {\n",
       "            background-color:  #3d50c3;\n",
       "            color:  #f1f1f1;\n",
       "        }    #T_1fda624a_86d4_11eb_9d1e_e8d8d143b53brow11_col6 {\n",
       "            background-color:  #8fb1fe;\n",
       "            color:  #000000;\n",
       "        }    #T_1fda624a_86d4_11eb_9d1e_e8d8d143b53brow11_col7 {\n",
       "            background-color:  #bcd2f7;\n",
       "            color:  #000000;\n",
       "        }    #T_1fda624a_86d4_11eb_9d1e_e8d8d143b53brow11_col8 {\n",
       "            background-color:  #3b4cc0;\n",
       "            color:  #f1f1f1;\n",
       "        }    #T_1fda624a_86d4_11eb_9d1e_e8d8d143b53brow11_col9 {\n",
       "            background-color:  #455cce;\n",
       "            color:  #f1f1f1;\n",
       "        }    #T_1fda624a_86d4_11eb_9d1e_e8d8d143b53brow11_col10 {\n",
       "            background-color:  #3b4cc0;\n",
       "            color:  #f1f1f1;\n",
       "        }    #T_1fda624a_86d4_11eb_9d1e_e8d8d143b53brow11_col11 {\n",
       "            background-color:  #b40426;\n",
       "            color:  #f1f1f1;\n",
       "        }</style><table id=\"T_1fda624a_86d4_11eb_9d1e_e8d8d143b53b\" ><thead>    <tr>        <th class=\"blank level0\" ></th>        <th class=\"col_heading level0 col0\" >age</th>        <th class=\"col_heading level0 col1\" >active</th>        <th class=\"col_heading level0 col2\" >F</th>        <th class=\"col_heading level0 col3\" >Austin</th>        <th class=\"col_heading level0 col4\" >Birmingham</th>        <th class=\"col_heading level0 col5\" >Charlotte</th>        <th class=\"col_heading level0 col6\" >Detroit</th>        <th class=\"col_heading level0 col7\" >Houston</th>        <th class=\"col_heading level0 col8\" >Nashville</th>        <th class=\"col_heading level0 col9\" >Tampa</th>        <th class=\"col_heading level0 col10\" >Desktop</th>        <th class=\"col_heading level0 col11\" >Tablet</th>    </tr></thead><tbody>\n",
       "                <tr>\n",
       "                        <th id=\"T_1fda624a_86d4_11eb_9d1e_e8d8d143b53blevel0_row0\" class=\"row_heading level0 row0\" >age</th>\n",
       "                        <td id=\"T_1fda624a_86d4_11eb_9d1e_e8d8d143b53brow0_col0\" class=\"data row0 col0\" >1</td>\n",
       "                        <td id=\"T_1fda624a_86d4_11eb_9d1e_e8d8d143b53brow0_col1\" class=\"data row0 col1\" >0.089</td>\n",
       "                        <td id=\"T_1fda624a_86d4_11eb_9d1e_e8d8d143b53brow0_col2\" class=\"data row0 col2\" >0.014</td>\n",
       "                        <td id=\"T_1fda624a_86d4_11eb_9d1e_e8d8d143b53brow0_col3\" class=\"data row0 col3\" >0.06</td>\n",
       "                        <td id=\"T_1fda624a_86d4_11eb_9d1e_e8d8d143b53brow0_col4\" class=\"data row0 col4\" >-0.032</td>\n",
       "                        <td id=\"T_1fda624a_86d4_11eb_9d1e_e8d8d143b53brow0_col5\" class=\"data row0 col5\" >0.011</td>\n",
       "                        <td id=\"T_1fda624a_86d4_11eb_9d1e_e8d8d143b53brow0_col6\" class=\"data row0 col6\" >-0.00049</td>\n",
       "                        <td id=\"T_1fda624a_86d4_11eb_9d1e_e8d8d143b53brow0_col7\" class=\"data row0 col7\" >-0.17</td>\n",
       "                        <td id=\"T_1fda624a_86d4_11eb_9d1e_e8d8d143b53brow0_col8\" class=\"data row0 col8\" >0.051</td>\n",
       "                        <td id=\"T_1fda624a_86d4_11eb_9d1e_e8d8d143b53brow0_col9\" class=\"data row0 col9\" >0.11</td>\n",
       "                        <td id=\"T_1fda624a_86d4_11eb_9d1e_e8d8d143b53brow0_col10\" class=\"data row0 col10\" >0.1</td>\n",
       "                        <td id=\"T_1fda624a_86d4_11eb_9d1e_e8d8d143b53brow0_col11\" class=\"data row0 col11\" >-0.018</td>\n",
       "            </tr>\n",
       "            <tr>\n",
       "                        <th id=\"T_1fda624a_86d4_11eb_9d1e_e8d8d143b53blevel0_row1\" class=\"row_heading level0 row1\" >active</th>\n",
       "                        <td id=\"T_1fda624a_86d4_11eb_9d1e_e8d8d143b53brow1_col0\" class=\"data row1 col0\" >0.089</td>\n",
       "                        <td id=\"T_1fda624a_86d4_11eb_9d1e_e8d8d143b53brow1_col1\" class=\"data row1 col1\" >1</td>\n",
       "                        <td id=\"T_1fda624a_86d4_11eb_9d1e_e8d8d143b53brow1_col2\" class=\"data row1 col2\" >0.11</td>\n",
       "                        <td id=\"T_1fda624a_86d4_11eb_9d1e_e8d8d143b53brow1_col3\" class=\"data row1 col3\" >0.038</td>\n",
       "                        <td id=\"T_1fda624a_86d4_11eb_9d1e_e8d8d143b53brow1_col4\" class=\"data row1 col4\" >0.04</td>\n",
       "                        <td id=\"T_1fda624a_86d4_11eb_9d1e_e8d8d143b53brow1_col5\" class=\"data row1 col5\" >-0.047</td>\n",
       "                        <td id=\"T_1fda624a_86d4_11eb_9d1e_e8d8d143b53brow1_col6\" class=\"data row1 col6\" >0.018</td>\n",
       "                        <td id=\"T_1fda624a_86d4_11eb_9d1e_e8d8d143b53brow1_col7\" class=\"data row1 col7\" >-0.092</td>\n",
       "                        <td id=\"T_1fda624a_86d4_11eb_9d1e_e8d8d143b53brow1_col8\" class=\"data row1 col8\" >0.078</td>\n",
       "                        <td id=\"T_1fda624a_86d4_11eb_9d1e_e8d8d143b53brow1_col9\" class=\"data row1 col9\" >0.058</td>\n",
       "                        <td id=\"T_1fda624a_86d4_11eb_9d1e_e8d8d143b53brow1_col10\" class=\"data row1 col10\" >0.006</td>\n",
       "                        <td id=\"T_1fda624a_86d4_11eb_9d1e_e8d8d143b53brow1_col11\" class=\"data row1 col11\" >0.047</td>\n",
       "            </tr>\n",
       "            <tr>\n",
       "                        <th id=\"T_1fda624a_86d4_11eb_9d1e_e8d8d143b53blevel0_row2\" class=\"row_heading level0 row2\" >F</th>\n",
       "                        <td id=\"T_1fda624a_86d4_11eb_9d1e_e8d8d143b53brow2_col0\" class=\"data row2 col0\" >0.014</td>\n",
       "                        <td id=\"T_1fda624a_86d4_11eb_9d1e_e8d8d143b53brow2_col1\" class=\"data row2 col1\" >0.11</td>\n",
       "                        <td id=\"T_1fda624a_86d4_11eb_9d1e_e8d8d143b53brow2_col2\" class=\"data row2 col2\" >1</td>\n",
       "                        <td id=\"T_1fda624a_86d4_11eb_9d1e_e8d8d143b53brow2_col3\" class=\"data row2 col3\" >0.027</td>\n",
       "                        <td id=\"T_1fda624a_86d4_11eb_9d1e_e8d8d143b53brow2_col4\" class=\"data row2 col4\" >0.046</td>\n",
       "                        <td id=\"T_1fda624a_86d4_11eb_9d1e_e8d8d143b53brow2_col5\" class=\"data row2 col5\" >-0.028</td>\n",
       "                        <td id=\"T_1fda624a_86d4_11eb_9d1e_e8d8d143b53brow2_col6\" class=\"data row2 col6\" >-0.029</td>\n",
       "                        <td id=\"T_1fda624a_86d4_11eb_9d1e_e8d8d143b53brow2_col7\" class=\"data row2 col7\" >-0.04</td>\n",
       "                        <td id=\"T_1fda624a_86d4_11eb_9d1e_e8d8d143b53brow2_col8\" class=\"data row2 col8\" >0.017</td>\n",
       "                        <td id=\"T_1fda624a_86d4_11eb_9d1e_e8d8d143b53brow2_col9\" class=\"data row2 col9\" >-0.0016</td>\n",
       "                        <td id=\"T_1fda624a_86d4_11eb_9d1e_e8d8d143b53brow2_col10\" class=\"data row2 col10\" >0.031</td>\n",
       "                        <td id=\"T_1fda624a_86d4_11eb_9d1e_e8d8d143b53brow2_col11\" class=\"data row2 col11\" >0.03</td>\n",
       "            </tr>\n",
       "            <tr>\n",
       "                        <th id=\"T_1fda624a_86d4_11eb_9d1e_e8d8d143b53blevel0_row3\" class=\"row_heading level0 row3\" >Austin</th>\n",
       "                        <td id=\"T_1fda624a_86d4_11eb_9d1e_e8d8d143b53brow3_col0\" class=\"data row3 col0\" >0.06</td>\n",
       "                        <td id=\"T_1fda624a_86d4_11eb_9d1e_e8d8d143b53brow3_col1\" class=\"data row3 col1\" >0.038</td>\n",
       "                        <td id=\"T_1fda624a_86d4_11eb_9d1e_e8d8d143b53brow3_col2\" class=\"data row3 col2\" >0.027</td>\n",
       "                        <td id=\"T_1fda624a_86d4_11eb_9d1e_e8d8d143b53brow3_col3\" class=\"data row3 col3\" >1</td>\n",
       "                        <td id=\"T_1fda624a_86d4_11eb_9d1e_e8d8d143b53brow3_col4\" class=\"data row3 col4\" >-0.22</td>\n",
       "                        <td id=\"T_1fda624a_86d4_11eb_9d1e_e8d8d143b53brow3_col5\" class=\"data row3 col5\" >-0.047</td>\n",
       "                        <td id=\"T_1fda624a_86d4_11eb_9d1e_e8d8d143b53brow3_col6\" class=\"data row3 col6\" >-0.13</td>\n",
       "                        <td id=\"T_1fda624a_86d4_11eb_9d1e_e8d8d143b53brow3_col7\" class=\"data row3 col7\" >-0.25</td>\n",
       "                        <td id=\"T_1fda624a_86d4_11eb_9d1e_e8d8d143b53brow3_col8\" class=\"data row3 col8\" >-0.03</td>\n",
       "                        <td id=\"T_1fda624a_86d4_11eb_9d1e_e8d8d143b53brow3_col9\" class=\"data row3 col9\" >-0.16</td>\n",
       "                        <td id=\"T_1fda624a_86d4_11eb_9d1e_e8d8d143b53brow3_col10\" class=\"data row3 col10\" >-0.11</td>\n",
       "                        <td id=\"T_1fda624a_86d4_11eb_9d1e_e8d8d143b53brow3_col11\" class=\"data row3 col11\" >-0.04</td>\n",
       "            </tr>\n",
       "            <tr>\n",
       "                        <th id=\"T_1fda624a_86d4_11eb_9d1e_e8d8d143b53blevel0_row4\" class=\"row_heading level0 row4\" >Birmingham</th>\n",
       "                        <td id=\"T_1fda624a_86d4_11eb_9d1e_e8d8d143b53brow4_col0\" class=\"data row4 col0\" >-0.032</td>\n",
       "                        <td id=\"T_1fda624a_86d4_11eb_9d1e_e8d8d143b53brow4_col1\" class=\"data row4 col1\" >0.04</td>\n",
       "                        <td id=\"T_1fda624a_86d4_11eb_9d1e_e8d8d143b53brow4_col2\" class=\"data row4 col2\" >0.046</td>\n",
       "                        <td id=\"T_1fda624a_86d4_11eb_9d1e_e8d8d143b53brow4_col3\" class=\"data row4 col3\" >-0.22</td>\n",
       "                        <td id=\"T_1fda624a_86d4_11eb_9d1e_e8d8d143b53brow4_col4\" class=\"data row4 col4\" >1</td>\n",
       "                        <td id=\"T_1fda624a_86d4_11eb_9d1e_e8d8d143b53brow4_col5\" class=\"data row4 col5\" >-0.065</td>\n",
       "                        <td id=\"T_1fda624a_86d4_11eb_9d1e_e8d8d143b53brow4_col6\" class=\"data row4 col6\" >-0.18</td>\n",
       "                        <td id=\"T_1fda624a_86d4_11eb_9d1e_e8d8d143b53brow4_col7\" class=\"data row4 col7\" >-0.35</td>\n",
       "                        <td id=\"T_1fda624a_86d4_11eb_9d1e_e8d8d143b53brow4_col8\" class=\"data row4 col8\" >-0.041</td>\n",
       "                        <td id=\"T_1fda624a_86d4_11eb_9d1e_e8d8d143b53brow4_col9\" class=\"data row4 col9\" >-0.23</td>\n",
       "                        <td id=\"T_1fda624a_86d4_11eb_9d1e_e8d8d143b53brow4_col10\" class=\"data row4 col10\" >-0.15</td>\n",
       "                        <td id=\"T_1fda624a_86d4_11eb_9d1e_e8d8d143b53brow4_col11\" class=\"data row4 col11\" >0.1</td>\n",
       "            </tr>\n",
       "            <tr>\n",
       "                        <th id=\"T_1fda624a_86d4_11eb_9d1e_e8d8d143b53blevel0_row5\" class=\"row_heading level0 row5\" >Charlotte</th>\n",
       "                        <td id=\"T_1fda624a_86d4_11eb_9d1e_e8d8d143b53brow5_col0\" class=\"data row5 col0\" >0.011</td>\n",
       "                        <td id=\"T_1fda624a_86d4_11eb_9d1e_e8d8d143b53brow5_col1\" class=\"data row5 col1\" >-0.047</td>\n",
       "                        <td id=\"T_1fda624a_86d4_11eb_9d1e_e8d8d143b53brow5_col2\" class=\"data row5 col2\" >-0.028</td>\n",
       "                        <td id=\"T_1fda624a_86d4_11eb_9d1e_e8d8d143b53brow5_col3\" class=\"data row5 col3\" >-0.047</td>\n",
       "                        <td id=\"T_1fda624a_86d4_11eb_9d1e_e8d8d143b53brow5_col4\" class=\"data row5 col4\" >-0.065</td>\n",
       "                        <td id=\"T_1fda624a_86d4_11eb_9d1e_e8d8d143b53brow5_col5\" class=\"data row5 col5\" >1</td>\n",
       "                        <td id=\"T_1fda624a_86d4_11eb_9d1e_e8d8d143b53brow5_col6\" class=\"data row5 col6\" >-0.04</td>\n",
       "                        <td id=\"T_1fda624a_86d4_11eb_9d1e_e8d8d143b53brow5_col7\" class=\"data row5 col7\" >-0.076</td>\n",
       "                        <td id=\"T_1fda624a_86d4_11eb_9d1e_e8d8d143b53brow5_col8\" class=\"data row5 col8\" >-0.009</td>\n",
       "                        <td id=\"T_1fda624a_86d4_11eb_9d1e_e8d8d143b53brow5_col9\" class=\"data row5 col9\" >-0.05</td>\n",
       "                        <td id=\"T_1fda624a_86d4_11eb_9d1e_e8d8d143b53brow5_col10\" class=\"data row5 col10\" >0.21</td>\n",
       "                        <td id=\"T_1fda624a_86d4_11eb_9d1e_e8d8d143b53brow5_col11\" class=\"data row5 col11\" >-0.067</td>\n",
       "            </tr>\n",
       "            <tr>\n",
       "                        <th id=\"T_1fda624a_86d4_11eb_9d1e_e8d8d143b53blevel0_row6\" class=\"row_heading level0 row6\" >Detroit</th>\n",
       "                        <td id=\"T_1fda624a_86d4_11eb_9d1e_e8d8d143b53brow6_col0\" class=\"data row6 col0\" >-0.00049</td>\n",
       "                        <td id=\"T_1fda624a_86d4_11eb_9d1e_e8d8d143b53brow6_col1\" class=\"data row6 col1\" >0.018</td>\n",
       "                        <td id=\"T_1fda624a_86d4_11eb_9d1e_e8d8d143b53brow6_col2\" class=\"data row6 col2\" >-0.029</td>\n",
       "                        <td id=\"T_1fda624a_86d4_11eb_9d1e_e8d8d143b53brow6_col3\" class=\"data row6 col3\" >-0.13</td>\n",
       "                        <td id=\"T_1fda624a_86d4_11eb_9d1e_e8d8d143b53brow6_col4\" class=\"data row6 col4\" >-0.18</td>\n",
       "                        <td id=\"T_1fda624a_86d4_11eb_9d1e_e8d8d143b53brow6_col5\" class=\"data row6 col5\" >-0.04</td>\n",
       "                        <td id=\"T_1fda624a_86d4_11eb_9d1e_e8d8d143b53brow6_col6\" class=\"data row6 col6\" >1</td>\n",
       "                        <td id=\"T_1fda624a_86d4_11eb_9d1e_e8d8d143b53brow6_col7\" class=\"data row6 col7\" >-0.21</td>\n",
       "                        <td id=\"T_1fda624a_86d4_11eb_9d1e_e8d8d143b53brow6_col8\" class=\"data row6 col8\" >-0.026</td>\n",
       "                        <td id=\"T_1fda624a_86d4_11eb_9d1e_e8d8d143b53brow6_col9\" class=\"data row6 col9\" >-0.14</td>\n",
       "                        <td id=\"T_1fda624a_86d4_11eb_9d1e_e8d8d143b53brow6_col10\" class=\"data row6 col10\" >-0.093</td>\n",
       "                        <td id=\"T_1fda624a_86d4_11eb_9d1e_e8d8d143b53brow6_col11\" class=\"data row6 col11\" >0.099</td>\n",
       "            </tr>\n",
       "            <tr>\n",
       "                        <th id=\"T_1fda624a_86d4_11eb_9d1e_e8d8d143b53blevel0_row7\" class=\"row_heading level0 row7\" >Houston</th>\n",
       "                        <td id=\"T_1fda624a_86d4_11eb_9d1e_e8d8d143b53brow7_col0\" class=\"data row7 col0\" >-0.17</td>\n",
       "                        <td id=\"T_1fda624a_86d4_11eb_9d1e_e8d8d143b53brow7_col1\" class=\"data row7 col1\" >-0.092</td>\n",
       "                        <td id=\"T_1fda624a_86d4_11eb_9d1e_e8d8d143b53brow7_col2\" class=\"data row7 col2\" >-0.04</td>\n",
       "                        <td id=\"T_1fda624a_86d4_11eb_9d1e_e8d8d143b53brow7_col3\" class=\"data row7 col3\" >-0.25</td>\n",
       "                        <td id=\"T_1fda624a_86d4_11eb_9d1e_e8d8d143b53brow7_col4\" class=\"data row7 col4\" >-0.35</td>\n",
       "                        <td id=\"T_1fda624a_86d4_11eb_9d1e_e8d8d143b53brow7_col5\" class=\"data row7 col5\" >-0.076</td>\n",
       "                        <td id=\"T_1fda624a_86d4_11eb_9d1e_e8d8d143b53brow7_col6\" class=\"data row7 col6\" >-0.21</td>\n",
       "                        <td id=\"T_1fda624a_86d4_11eb_9d1e_e8d8d143b53brow7_col7\" class=\"data row7 col7\" >1</td>\n",
       "                        <td id=\"T_1fda624a_86d4_11eb_9d1e_e8d8d143b53brow7_col8\" class=\"data row7 col8\" >-0.048</td>\n",
       "                        <td id=\"T_1fda624a_86d4_11eb_9d1e_e8d8d143b53brow7_col9\" class=\"data row7 col9\" >-0.27</td>\n",
       "                        <td id=\"T_1fda624a_86d4_11eb_9d1e_e8d8d143b53brow7_col10\" class=\"data row7 col10\" >-0.17</td>\n",
       "                        <td id=\"T_1fda624a_86d4_11eb_9d1e_e8d8d143b53brow7_col11\" class=\"data row7 col11\" >0.17</td>\n",
       "            </tr>\n",
       "            <tr>\n",
       "                        <th id=\"T_1fda624a_86d4_11eb_9d1e_e8d8d143b53blevel0_row8\" class=\"row_heading level0 row8\" >Nashville</th>\n",
       "                        <td id=\"T_1fda624a_86d4_11eb_9d1e_e8d8d143b53brow8_col0\" class=\"data row8 col0\" >0.051</td>\n",
       "                        <td id=\"T_1fda624a_86d4_11eb_9d1e_e8d8d143b53brow8_col1\" class=\"data row8 col1\" >0.078</td>\n",
       "                        <td id=\"T_1fda624a_86d4_11eb_9d1e_e8d8d143b53brow8_col2\" class=\"data row8 col2\" >0.017</td>\n",
       "                        <td id=\"T_1fda624a_86d4_11eb_9d1e_e8d8d143b53brow8_col3\" class=\"data row8 col3\" >-0.03</td>\n",
       "                        <td id=\"T_1fda624a_86d4_11eb_9d1e_e8d8d143b53brow8_col4\" class=\"data row8 col4\" >-0.041</td>\n",
       "                        <td id=\"T_1fda624a_86d4_11eb_9d1e_e8d8d143b53brow8_col5\" class=\"data row8 col5\" >-0.009</td>\n",
       "                        <td id=\"T_1fda624a_86d4_11eb_9d1e_e8d8d143b53brow8_col6\" class=\"data row8 col6\" >-0.026</td>\n",
       "                        <td id=\"T_1fda624a_86d4_11eb_9d1e_e8d8d143b53brow8_col7\" class=\"data row8 col7\" >-0.048</td>\n",
       "                        <td id=\"T_1fda624a_86d4_11eb_9d1e_e8d8d143b53brow8_col8\" class=\"data row8 col8\" >1</td>\n",
       "                        <td id=\"T_1fda624a_86d4_11eb_9d1e_e8d8d143b53brow8_col9\" class=\"data row8 col9\" >-0.032</td>\n",
       "                        <td id=\"T_1fda624a_86d4_11eb_9d1e_e8d8d143b53brow8_col10\" class=\"data row8 col10\" >0.19</td>\n",
       "                        <td id=\"T_1fda624a_86d4_11eb_9d1e_e8d8d143b53brow8_col11\" class=\"data row8 col11\" >-0.048</td>\n",
       "            </tr>\n",
       "            <tr>\n",
       "                        <th id=\"T_1fda624a_86d4_11eb_9d1e_e8d8d143b53blevel0_row9\" class=\"row_heading level0 row9\" >Tampa</th>\n",
       "                        <td id=\"T_1fda624a_86d4_11eb_9d1e_e8d8d143b53brow9_col0\" class=\"data row9 col0\" >0.11</td>\n",
       "                        <td id=\"T_1fda624a_86d4_11eb_9d1e_e8d8d143b53brow9_col1\" class=\"data row9 col1\" >0.058</td>\n",
       "                        <td id=\"T_1fda624a_86d4_11eb_9d1e_e8d8d143b53brow9_col2\" class=\"data row9 col2\" >-0.0016</td>\n",
       "                        <td id=\"T_1fda624a_86d4_11eb_9d1e_e8d8d143b53brow9_col3\" class=\"data row9 col3\" >-0.16</td>\n",
       "                        <td id=\"T_1fda624a_86d4_11eb_9d1e_e8d8d143b53brow9_col4\" class=\"data row9 col4\" >-0.23</td>\n",
       "                        <td id=\"T_1fda624a_86d4_11eb_9d1e_e8d8d143b53brow9_col5\" class=\"data row9 col5\" >-0.05</td>\n",
       "                        <td id=\"T_1fda624a_86d4_11eb_9d1e_e8d8d143b53brow9_col6\" class=\"data row9 col6\" >-0.14</td>\n",
       "                        <td id=\"T_1fda624a_86d4_11eb_9d1e_e8d8d143b53brow9_col7\" class=\"data row9 col7\" >-0.27</td>\n",
       "                        <td id=\"T_1fda624a_86d4_11eb_9d1e_e8d8d143b53brow9_col8\" class=\"data row9 col8\" >-0.032</td>\n",
       "                        <td id=\"T_1fda624a_86d4_11eb_9d1e_e8d8d143b53brow9_col9\" class=\"data row9 col9\" >1</td>\n",
       "                        <td id=\"T_1fda624a_86d4_11eb_9d1e_e8d8d143b53brow9_col10\" class=\"data row9 col10\" >-0.11</td>\n",
       "                        <td id=\"T_1fda624a_86d4_11eb_9d1e_e8d8d143b53brow9_col11\" class=\"data row9 col11\" >-0.22</td>\n",
       "            </tr>\n",
       "            <tr>\n",
       "                        <th id=\"T_1fda624a_86d4_11eb_9d1e_e8d8d143b53blevel0_row10\" class=\"row_heading level0 row10\" >Desktop</th>\n",
       "                        <td id=\"T_1fda624a_86d4_11eb_9d1e_e8d8d143b53brow10_col0\" class=\"data row10 col0\" >0.1</td>\n",
       "                        <td id=\"T_1fda624a_86d4_11eb_9d1e_e8d8d143b53brow10_col1\" class=\"data row10 col1\" >0.006</td>\n",
       "                        <td id=\"T_1fda624a_86d4_11eb_9d1e_e8d8d143b53brow10_col2\" class=\"data row10 col2\" >0.031</td>\n",
       "                        <td id=\"T_1fda624a_86d4_11eb_9d1e_e8d8d143b53brow10_col3\" class=\"data row10 col3\" >-0.11</td>\n",
       "                        <td id=\"T_1fda624a_86d4_11eb_9d1e_e8d8d143b53brow10_col4\" class=\"data row10 col4\" >-0.15</td>\n",
       "                        <td id=\"T_1fda624a_86d4_11eb_9d1e_e8d8d143b53brow10_col5\" class=\"data row10 col5\" >0.21</td>\n",
       "                        <td id=\"T_1fda624a_86d4_11eb_9d1e_e8d8d143b53brow10_col6\" class=\"data row10 col6\" >-0.093</td>\n",
       "                        <td id=\"T_1fda624a_86d4_11eb_9d1e_e8d8d143b53brow10_col7\" class=\"data row10 col7\" >-0.17</td>\n",
       "                        <td id=\"T_1fda624a_86d4_11eb_9d1e_e8d8d143b53brow10_col8\" class=\"data row10 col8\" >0.19</td>\n",
       "                        <td id=\"T_1fda624a_86d4_11eb_9d1e_e8d8d143b53brow10_col9\" class=\"data row10 col9\" >-0.11</td>\n",
       "                        <td id=\"T_1fda624a_86d4_11eb_9d1e_e8d8d143b53brow10_col10\" class=\"data row10 col10\" >1</td>\n",
       "                        <td id=\"T_1fda624a_86d4_11eb_9d1e_e8d8d143b53brow10_col11\" class=\"data row10 col11\" >-0.19</td>\n",
       "            </tr>\n",
       "            <tr>\n",
       "                        <th id=\"T_1fda624a_86d4_11eb_9d1e_e8d8d143b53blevel0_row11\" class=\"row_heading level0 row11\" >Tablet</th>\n",
       "                        <td id=\"T_1fda624a_86d4_11eb_9d1e_e8d8d143b53brow11_col0\" class=\"data row11 col0\" >-0.018</td>\n",
       "                        <td id=\"T_1fda624a_86d4_11eb_9d1e_e8d8d143b53brow11_col1\" class=\"data row11 col1\" >0.047</td>\n",
       "                        <td id=\"T_1fda624a_86d4_11eb_9d1e_e8d8d143b53brow11_col2\" class=\"data row11 col2\" >0.03</td>\n",
       "                        <td id=\"T_1fda624a_86d4_11eb_9d1e_e8d8d143b53brow11_col3\" class=\"data row11 col3\" >-0.04</td>\n",
       "                        <td id=\"T_1fda624a_86d4_11eb_9d1e_e8d8d143b53brow11_col4\" class=\"data row11 col4\" >0.1</td>\n",
       "                        <td id=\"T_1fda624a_86d4_11eb_9d1e_e8d8d143b53brow11_col5\" class=\"data row11 col5\" >-0.067</td>\n",
       "                        <td id=\"T_1fda624a_86d4_11eb_9d1e_e8d8d143b53brow11_col6\" class=\"data row11 col6\" >0.099</td>\n",
       "                        <td id=\"T_1fda624a_86d4_11eb_9d1e_e8d8d143b53brow11_col7\" class=\"data row11 col7\" >0.17</td>\n",
       "                        <td id=\"T_1fda624a_86d4_11eb_9d1e_e8d8d143b53brow11_col8\" class=\"data row11 col8\" >-0.048</td>\n",
       "                        <td id=\"T_1fda624a_86d4_11eb_9d1e_e8d8d143b53brow11_col9\" class=\"data row11 col9\" >-0.22</td>\n",
       "                        <td id=\"T_1fda624a_86d4_11eb_9d1e_e8d8d143b53brow11_col10\" class=\"data row11 col10\" >-0.19</td>\n",
       "                        <td id=\"T_1fda624a_86d4_11eb_9d1e_e8d8d143b53brow11_col11\" class=\"data row11 col11\" >1</td>\n",
       "            </tr>\n",
       "    </tbody></table>"
      ],
      "text/plain": [
       "<pandas.io.formats.style.Styler at 0x26bbb7f4448>"
      ]
     },
     "execution_count": 64,
     "metadata": {},
     "output_type": "execute_result"
    }
   ],
   "source": [
    "df = pd.DataFrame(data_act)\n",
    "corr = df.corr()\n",
    "corr.style.background_gradient(cmap = 'coolwarm').set_precision(2)"
   ]
  },
  {
   "cell_type": "code",
   "execution_count": 65,
   "metadata": {},
   "outputs": [],
   "source": [
    "df = data_act.drop(['userid', 'date'], axis = 1)"
   ]
  },
  {
   "cell_type": "code",
   "execution_count": 71,
   "metadata": {},
   "outputs": [],
   "source": [
    "#########Set the active column as target\n",
    "target = df[\"active\"]"
   ]
  },
  {
   "cell_type": "code",
   "execution_count": 72,
   "metadata": {},
   "outputs": [],
   "source": [
    "########Set every other column as features\n",
    "features = df.drop(\"active\", axis = 1)"
   ]
  },
  {
   "cell_type": "code",
   "execution_count": 73,
   "metadata": {},
   "outputs": [],
   "source": [
    "#########Split data into train and test\n",
    "from sklearn.model_selection import train_test_split\n",
    "\n",
    "#########Split into train size = 0.75, test size = 0.25\n",
    "features_train, features_test, target_train, target_test = train_test_split(features, target, test_size = 0.25, random_state=42)"
   ]
  },
  {
   "cell_type": "code",
   "execution_count": 74,
   "metadata": {},
   "outputs": [],
   "source": [
    "#######Precision score\n",
    "from sklearn.metrics import precision_score\n",
    "\n",
    "########Recall score\n",
    "from sklearn.metrics import recall_score\n",
    "\n",
    "#######ROC/AUC score\n",
    "from sklearn.metrics import roc_auc_score"
   ]
  },
  {
   "cell_type": "code",
   "execution_count": 75,
   "metadata": {},
   "outputs": [
    {
     "name": "stdout",
     "output_type": "stream",
     "text": [
      "Training set accuracy: 58.69618696186962\n",
      "Test set accuracy: 57.71217712177121\n",
      "Precision Score: 56.78704856787049\n",
      "Recall Score: 66.86217008797654\n",
      "ROC/AUC Score: 57.650995890942205\n"
     ]
    },
    {
     "name": "stderr",
     "output_type": "stream",
     "text": [
      "C:\\Users\\oyeye\\Anaconda3\\lib\\site-packages\\sklearn\\linear_model\\logistic.py:432: FutureWarning: Default solver will be changed to 'lbfgs' in 0.22. Specify a solver to silence this warning.\n",
      "  FutureWarning)\n"
     ]
    }
   ],
   "source": [
    "#########import logistic regression model\n",
    "from sklearn.linear_model import LogisticRegression\n",
    "logmodel = LogisticRegression(random_state = 42, class_weight = \"balanced\")\n",
    "\n",
    "#######application of the model to fit features to target in the training set\n",
    "logmodel.fit(features_train, target_train)\n",
    "\n",
    "#######Make prediction using the test set\n",
    "prediction_best = logmodel.predict(features_test)\n",
    "\n",
    "#######accuracy score for training set\n",
    "print(\"Training set accuracy:\", logmodel.score(features_train, target_train)*100)\n",
    "\n",
    "#######accuracy score for test set\n",
    "print(\"Test set accuracy:\", logmodel.score(features_test, target_test)*100)\n",
    "\n",
    "#######Use precision score to compare target_test with prediction\n",
    "print(\"Precision Score:\", precision_score(target_test, prediction_best)*100)\n",
    "\n",
    "#######Use recall score to compare target_test with prediction\n",
    "print(\"Recall Score:\", recall_score(target_test, prediction_best)*100)\n",
    "\n",
    "#######Use ROC/AUC score to compare target_test with prediction\n",
    "print(\"ROC/AUC Score:\", roc_auc_score(target_test, prediction_best)*100)"
   ]
  },
  {
   "cell_type": "code",
   "execution_count": null,
   "metadata": {},
   "outputs": [],
   "source": []
  },
  {
   "cell_type": "markdown",
   "metadata": {},
   "source": [
    "# Question 6"
   ]
  },
  {
   "cell_type": "code",
   "execution_count": 76,
   "metadata": {},
   "outputs": [],
   "source": [
    "########import InterviewData_Parsing.csv file\n",
    "parsing = pd.read_csv(\"C:/Users/oyeye/Downloads/InterviewData_Parsing.csv\")"
   ]
  },
  {
   "cell_type": "code",
   "execution_count": 77,
   "metadata": {
    "scrolled": true
   },
   "outputs": [
    {
     "data": {
      "text/html": [
       "<div>\n",
       "<style scoped>\n",
       "    .dataframe tbody tr th:only-of-type {\n",
       "        vertical-align: middle;\n",
       "    }\n",
       "\n",
       "    .dataframe tbody tr th {\n",
       "        vertical-align: top;\n",
       "    }\n",
       "\n",
       "    .dataframe thead th {\n",
       "        text-align: right;\n",
       "    }\n",
       "</style>\n",
       "<table border=\"1\" class=\"dataframe\">\n",
       "  <thead>\n",
       "    <tr style=\"text-align: right;\">\n",
       "      <th></th>\n",
       "      <th>userid</th>\n",
       "      <th>data_to_parse</th>\n",
       "      <th>value0</th>\n",
       "      <th>value1</th>\n",
       "      <th>value2</th>\n",
       "      <th>value3</th>\n",
       "    </tr>\n",
       "  </thead>\n",
       "  <tbody>\n",
       "    <tr>\n",
       "      <td>0</td>\n",
       "      <td>54f3ad9a29ada</td>\n",
       "      <td>\"value\":\"N;U;A7;W\"}]</td>\n",
       "      <td>N</td>\n",
       "      <td>U</td>\n",
       "      <td>A7</td>\n",
       "      <td>W</td>\n",
       "    </tr>\n",
       "    <tr>\n",
       "      <td>1</td>\n",
       "      <td>54f69f2de6aec</td>\n",
       "      <td>\"value\":\"N;U;I6;W\"}]</td>\n",
       "      <td>N</td>\n",
       "      <td>U</td>\n",
       "      <td>I6</td>\n",
       "      <td>W</td>\n",
       "    </tr>\n",
       "    <tr>\n",
       "      <td>2</td>\n",
       "      <td>54f650f004474</td>\n",
       "      <td>\"value\":\"Y;U;A7;W\"}]</td>\n",
       "      <td>Y</td>\n",
       "      <td>U</td>\n",
       "      <td>A7</td>\n",
       "      <td>W</td>\n",
       "    </tr>\n",
       "    <tr>\n",
       "      <td>3</td>\n",
       "      <td>54f52e8872227</td>\n",
       "      <td>\"value\":\"N;U;I1;W\"}]</td>\n",
       "      <td>N</td>\n",
       "      <td>U</td>\n",
       "      <td>I1</td>\n",
       "      <td>W</td>\n",
       "    </tr>\n",
       "    <tr>\n",
       "      <td>4</td>\n",
       "      <td>54f64d3075b72</td>\n",
       "      <td>\"value\":\"Y;U;A7;W\"}]</td>\n",
       "      <td>Y</td>\n",
       "      <td>U</td>\n",
       "      <td>A7</td>\n",
       "      <td>W</td>\n",
       "    </tr>\n",
       "  </tbody>\n",
       "</table>\n",
       "</div>"
      ],
      "text/plain": [
       "          userid         data_to_parse value0 value1 value2 value3\n",
       "0  54f3ad9a29ada  \"value\":\"N;U;A7;W\"}]      N      U     A7      W\n",
       "1  54f69f2de6aec  \"value\":\"N;U;I6;W\"}]      N      U     I6      W\n",
       "2  54f650f004474  \"value\":\"Y;U;A7;W\"}]      Y      U     A7      W\n",
       "3  54f52e8872227  \"value\":\"N;U;I1;W\"}]      N      U     I1      W\n",
       "4  54f64d3075b72  \"value\":\"Y;U;A7;W\"}]      Y      U     A7      W"
      ]
     },
     "execution_count": 77,
     "metadata": {},
     "output_type": "execute_result"
    }
   ],
   "source": [
    "newparsing = (\"{\" + parsing[\"data_to_parse\"].str.strip(\"]\")).apply(pd.io.json.loads)\n",
    "nparsing = newparsing.str[\"value\"].str.split(\";\", expand = True)\n",
    "finalparsing = pd.concat([parsing, nparsing.add_prefix(\"value\")], axis=1)\n",
    "finalparsing.head()"
   ]
  },
  {
   "cell_type": "markdown",
   "metadata": {},
   "source": [
    "# Question B"
   ]
  },
  {
   "cell_type": "markdown",
   "metadata": {},
   "source": [
    "The information which include name and general metropolitan area that we have on potential customers will serve as a basis \n",
    "for the following metrics - ad impressions, landing page clicks and conversions. Since the main goal is to drive more\n",
    "conversions on the landing page then there is the need to focus on:\n",
    "    \n",
    "--- The total number of visitors who have visited the landing page\n",
    "--- The total number of those visitors who have converted on the offer\n",
    "\n",
    "landing page conversion rate = total number of visitors who converted / total number of visitors\n",
    "\n",
    "It is important that as much as we have many visitors on the landing page, we must also have many of these visitors converting \n",
    "on the offer. A reporting system should be created for the data we have on name and general metropolitan area such that we can\n",
    "use that to make effective recommendations to the marketing team for campaign optimization.\n",
    "\n",
    "The reporting systemn will make it possible to visualize the visitors from each metropolitan area and the one with the highest\n",
    "representations.\n",
    "\n",
    "Marketing should be more and better targeted at visitors who convert from the most represented metropolitan areas."
   ]
  },
  {
   "cell_type": "code",
   "execution_count": null,
   "metadata": {},
   "outputs": [],
   "source": []
  },
  {
   "cell_type": "code",
   "execution_count": null,
   "metadata": {},
   "outputs": [],
   "source": []
  },
  {
   "cell_type": "code",
   "execution_count": null,
   "metadata": {},
   "outputs": [],
   "source": []
  },
  {
   "cell_type": "code",
   "execution_count": null,
   "metadata": {},
   "outputs": [],
   "source": []
  }
 ],
 "metadata": {
  "kernelspec": {
   "display_name": "Python 3",
   "language": "python",
   "name": "python3"
  },
  "language_info": {
   "codemirror_mode": {
    "name": "ipython",
    "version": 3
   },
   "file_extension": ".py",
   "mimetype": "text/x-python",
   "name": "python",
   "nbconvert_exporter": "python",
   "pygments_lexer": "ipython3",
   "version": "3.8.8"
  }
 },
 "nbformat": 4,
 "nbformat_minor": 2
}
